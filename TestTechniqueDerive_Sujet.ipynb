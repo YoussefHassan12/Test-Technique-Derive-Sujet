{
 "cells": [
  {
   "cell_type": "markdown",
   "id": "b7b7e66e",
   "metadata": {},
   "source": [
    "<center><img src=\"https://is1-ssl.mzstatic.com/image/thumb/Purple122/v4/05/e7/67/05e76784-3364-b535-7e20-b3f4946a56b6/AppIcon-0-0-1x_U007emarketing-0-0-0-7-0-0-sRGB-0-0-0-GLES2_U002c0-512MB-85-220-0-0.png/434x0w.webp\" style=\"height:150px\"></center>\n",
    "\n",
    "<hr style=\"border-width:2px;border-color:red\">\n",
    "<center><h1>Test Technique Data Scientist</h1></center>\n",
    "<center><h2> Mesure de la dérive </h2></center>\n",
    "<hr style=\"border-width:2px;border-color:red\">\n",
    "\n",
    "# Contexte\n",
    "\n",
    "La **dérive** en apprentissage automatique (ou **\"drift\"** en anglais) fait référence à un **changement dans les données d'entrée ou de sortie d'un modèle** de machine learning **après son entraînement initial**. Cela peut se produire lorsque les données utilisées pour entraîner le modèle ne **reflètent plus la réalité**, ou lorsque **les conditions du problème changent de manière significative**.\n",
    "\n",
    "La dérive des données peut affecter la précision du modèle de manière significative et peut entraîner des erreurs coûteuses dans les prévisions ou les décisions basées sur le modèle. Par conséquent, **il est important de surveiller régulièrement les performances du modèle** et de le mettre à jour en fonction des nouveaux jeux de données ou des nouvelles conditions du problème.\n",
    "\n",
    "# Objectif\n",
    "\n",
    "Dans ce test, vous allez implémenter des métriques permettant de mesurer la dérive d'un modèle dans un usecase de **e-commerce** où nous essayons de prédire le **panier total** (variable **`TotalCart`** : chiffre d'affaire total d'un client sur la période donnée) des clients en fonction des variables suivantes:\n",
    "* **`Age`** : âge du client en années.\n",
    "* **`Seniority`** : ancienneté du client en années.\n",
    "* **`Orders`** : Nombre de commandes effectuées sur la période précédente.\n",
    "* **`Items`** : Nombre d'items commandés sur la période précédente.\n",
    "* **`AverageDiscount`** : Réduction moyenne accordée au client sur la période précédente en pourcentage.\n",
    "* **`TopCategory`** : Catégorie de produits favorite du client.\n",
    "* **`BrowsingTime`** : Temps total passé sur le site web sur la période précédente en secondes.\n",
    "* **`EmailsOpened`** : Nombre de mails marketing ouverts par le client sur la période précédente.\n",
    "* **`SupportInteractions`** : Nombre d'interactions que le client a eu avec le service client sur la période précédente.\n",
    "\n",
    "Le jeu de données est décomposé en 4 périodes correspondant aux 4 trimestres de l'année 2022. Vous trouverez les données correspondant à chaque période dans les fichiers **`period_0.csv`**, **`period_1.csv`**, ..., **`period_3.csv`**.\n",
    "\n",
    "Vous allez d'abord **entraîner et évaluer un modèle de machine learning** sur les données de la **période 0**. On supposera que ce modèle sera utilisé pour effectuer les prédictions de panier total sur toute l'année 2022.\n",
    "\n",
    "Ensuite, vous devrez **implémenter des métriques de dérive** qui vous seront données et **effectuer une analyse** de celle-ci.\n",
    "\n",
    "# Entraînement du modèle\n",
    "\n",
    "* **Entraînez et validez** deux ou trois modèles de votre choix sur les données de la période 0. \n",
    "\n",
    "**Conseils**\n",
    "\n",
    "* Vous serez évalué sur votre **rigueur** et non sur les performances du modèle.\n",
    "\n",
    "\n",
    "* Il n'est pas nécessaire de faire une analyse exploratoire des données.\n",
    "\n",
    "\n",
    "* Il n'est pas nécessaire de faire de recherche d'hyperparamètres optimaux non plus mais vous pouvez le faire si vous le souhaitez."
   ]
  },
  {
   "cell_type": "code",
   "execution_count": 1,
   "id": "18b8e837",
   "metadata": {},
   "outputs": [],
   "source": [
    "import pandas as pd\n",
    "import numpy as np\n",
    "import matplotlib.pyplot as plt\n",
    "\n",
    "import seaborn as sns\n",
    "import plotly.graph_objects as go\n",
    "import plotly.express as px\n",
    "\n",
    "from sklearn.linear_model import LinearRegression\n",
    "from sklearn.ensemble import RandomForestRegressor\n",
    "from sklearn.neighbors import KNeighborsRegressor\n",
    "from sklearn.model_selection import train_test_split, GridSearchCV\n",
    "from sklearn.metrics import r2_score, mean_squared_error\n",
    "\n",
    "from dmba import stepwise_selection, AIC_score"
   ]
  },
  {
   "cell_type": "code",
   "execution_count": 3,
   "id": "a4e210ed",
   "metadata": {},
   "outputs": [
    {
     "data": {
      "text/html": [
       "<div>\n",
       "<style scoped>\n",
       "    .dataframe tbody tr th:only-of-type {\n",
       "        vertical-align: middle;\n",
       "    }\n",
       "\n",
       "    .dataframe tbody tr th {\n",
       "        vertical-align: top;\n",
       "    }\n",
       "\n",
       "    .dataframe thead th {\n",
       "        text-align: right;\n",
       "    }\n",
       "</style>\n",
       "<table border=\"1\" class=\"dataframe\">\n",
       "  <thead>\n",
       "    <tr style=\"text-align: right;\">\n",
       "      <th></th>\n",
       "      <th>Age</th>\n",
       "      <th>Seniority</th>\n",
       "      <th>Orders</th>\n",
       "      <th>Items</th>\n",
       "      <th>AverageDiscount</th>\n",
       "      <th>TopCategory</th>\n",
       "      <th>BrowsingTime</th>\n",
       "      <th>EmailsOpened</th>\n",
       "      <th>SupportInteractions</th>\n",
       "      <th>TotalCart</th>\n",
       "    </tr>\n",
       "  </thead>\n",
       "  <tbody>\n",
       "    <tr>\n",
       "      <th>0</th>\n",
       "      <td>21</td>\n",
       "      <td>2</td>\n",
       "      <td>4</td>\n",
       "      <td>7</td>\n",
       "      <td>0.14</td>\n",
       "      <td>Clothing,Shoes &amp; Jewelry</td>\n",
       "      <td>68.473629</td>\n",
       "      <td>3</td>\n",
       "      <td>2</td>\n",
       "      <td>34.00</td>\n",
       "    </tr>\n",
       "    <tr>\n",
       "      <th>1</th>\n",
       "      <td>22</td>\n",
       "      <td>0</td>\n",
       "      <td>4</td>\n",
       "      <td>5</td>\n",
       "      <td>0.50</td>\n",
       "      <td>Toys &amp; Games</td>\n",
       "      <td>29.258063</td>\n",
       "      <td>1</td>\n",
       "      <td>0</td>\n",
       "      <td>28.28</td>\n",
       "    </tr>\n",
       "    <tr>\n",
       "      <th>2</th>\n",
       "      <td>22</td>\n",
       "      <td>1</td>\n",
       "      <td>2</td>\n",
       "      <td>6</td>\n",
       "      <td>0.37</td>\n",
       "      <td>Health, Household &amp; Baby Care</td>\n",
       "      <td>11.515517</td>\n",
       "      <td>0</td>\n",
       "      <td>0</td>\n",
       "      <td>19.33</td>\n",
       "    </tr>\n",
       "    <tr>\n",
       "      <th>3</th>\n",
       "      <td>19</td>\n",
       "      <td>0</td>\n",
       "      <td>2</td>\n",
       "      <td>8</td>\n",
       "      <td>0.60</td>\n",
       "      <td>Toys &amp; Games</td>\n",
       "      <td>74.495861</td>\n",
       "      <td>1</td>\n",
       "      <td>0</td>\n",
       "      <td>26.83</td>\n",
       "    </tr>\n",
       "    <tr>\n",
       "      <th>4</th>\n",
       "      <td>25</td>\n",
       "      <td>1</td>\n",
       "      <td>1</td>\n",
       "      <td>5</td>\n",
       "      <td>0.58</td>\n",
       "      <td>Toys &amp; Games</td>\n",
       "      <td>1.682705</td>\n",
       "      <td>2</td>\n",
       "      <td>1</td>\n",
       "      <td>17.67</td>\n",
       "    </tr>\n",
       "  </tbody>\n",
       "</table>\n",
       "</div>"
      ],
      "text/plain": [
       "   Age  Seniority  Orders  Items  AverageDiscount  \\\n",
       "0   21          2       4      7             0.14   \n",
       "1   22          0       4      5             0.50   \n",
       "2   22          1       2      6             0.37   \n",
       "3   19          0       2      8             0.60   \n",
       "4   25          1       1      5             0.58   \n",
       "\n",
       "                     TopCategory  BrowsingTime  EmailsOpened  \\\n",
       "0       Clothing,Shoes & Jewelry     68.473629             3   \n",
       "1                   Toys & Games     29.258063             1   \n",
       "2  Health, Household & Baby Care     11.515517             0   \n",
       "3                   Toys & Games     74.495861             1   \n",
       "4                   Toys & Games      1.682705             2   \n",
       "\n",
       "   SupportInteractions  TotalCart  \n",
       "0                    2      34.00  \n",
       "1                    0      28.28  \n",
       "2                    0      19.33  \n",
       "3                    0      26.83  \n",
       "4                    1      17.67  "
      ]
     },
     "execution_count": 3,
     "metadata": {},
     "output_type": "execute_result"
    }
   ],
   "source": [
    "df0=pd.read_csv('period_0.csv')\n",
    "df0.head()"
   ]
  },
  {
   "cell_type": "code",
   "execution_count": 4,
   "id": "36e4402f",
   "metadata": {},
   "outputs": [
    {
     "name": "stdout",
     "output_type": "stream",
     "text": [
      "Shape: (1000, 10)\n"
     ]
    },
    {
     "data": {
      "text/plain": [
       "Age                      int64\n",
       "Seniority                int64\n",
       "Orders                   int64\n",
       "Items                    int64\n",
       "AverageDiscount        float64\n",
       "TopCategory             object\n",
       "BrowsingTime           float64\n",
       "EmailsOpened             int64\n",
       "SupportInteractions      int64\n",
       "TotalCart              float64\n",
       "dtype: object"
      ]
     },
     "execution_count": 4,
     "metadata": {},
     "output_type": "execute_result"
    }
   ],
   "source": [
    "print('Shape:',df0.shape)\n",
    "df0.dtypes"
   ]
  },
  {
   "cell_type": "code",
   "execution_count": 5,
   "id": "0485e907",
   "metadata": {},
   "outputs": [
    {
     "data": {
      "text/html": [
       "<div>\n",
       "<style scoped>\n",
       "    .dataframe tbody tr th:only-of-type {\n",
       "        vertical-align: middle;\n",
       "    }\n",
       "\n",
       "    .dataframe tbody tr th {\n",
       "        vertical-align: top;\n",
       "    }\n",
       "\n",
       "    .dataframe thead th {\n",
       "        text-align: right;\n",
       "    }\n",
       "</style>\n",
       "<table border=\"1\" class=\"dataframe\">\n",
       "  <thead>\n",
       "    <tr style=\"text-align: right;\">\n",
       "      <th></th>\n",
       "      <th>variable</th>\n",
       "      <th>Nombre des valeurs manquantes</th>\n",
       "    </tr>\n",
       "  </thead>\n",
       "  <tbody>\n",
       "    <tr>\n",
       "      <th>0</th>\n",
       "      <td>Age</td>\n",
       "      <td>0</td>\n",
       "    </tr>\n",
       "    <tr>\n",
       "      <th>1</th>\n",
       "      <td>Seniority</td>\n",
       "      <td>0</td>\n",
       "    </tr>\n",
       "    <tr>\n",
       "      <th>2</th>\n",
       "      <td>Orders</td>\n",
       "      <td>0</td>\n",
       "    </tr>\n",
       "    <tr>\n",
       "      <th>3</th>\n",
       "      <td>Items</td>\n",
       "      <td>0</td>\n",
       "    </tr>\n",
       "    <tr>\n",
       "      <th>4</th>\n",
       "      <td>AverageDiscount</td>\n",
       "      <td>0</td>\n",
       "    </tr>\n",
       "    <tr>\n",
       "      <th>5</th>\n",
       "      <td>TopCategory</td>\n",
       "      <td>0</td>\n",
       "    </tr>\n",
       "    <tr>\n",
       "      <th>6</th>\n",
       "      <td>BrowsingTime</td>\n",
       "      <td>0</td>\n",
       "    </tr>\n",
       "    <tr>\n",
       "      <th>7</th>\n",
       "      <td>EmailsOpened</td>\n",
       "      <td>0</td>\n",
       "    </tr>\n",
       "    <tr>\n",
       "      <th>8</th>\n",
       "      <td>SupportInteractions</td>\n",
       "      <td>0</td>\n",
       "    </tr>\n",
       "    <tr>\n",
       "      <th>9</th>\n",
       "      <td>TotalCart</td>\n",
       "      <td>0</td>\n",
       "    </tr>\n",
       "  </tbody>\n",
       "</table>\n",
       "</div>"
      ],
      "text/plain": [
       "              variable  Nombre des valeurs manquantes\n",
       "0                  Age                              0\n",
       "1            Seniority                              0\n",
       "2               Orders                              0\n",
       "3                Items                              0\n",
       "4      AverageDiscount                              0\n",
       "5          TopCategory                              0\n",
       "6         BrowsingTime                              0\n",
       "7         EmailsOpened                              0\n",
       "8  SupportInteractions                              0\n",
       "9            TotalCart                              0"
      ]
     },
     "execution_count": 5,
     "metadata": {},
     "output_type": "execute_result"
    }
   ],
   "source": [
    "d={i:df0[i].isna().sum() for i in df0.columns}\n",
    "pd.DataFrame(list(d.items()), columns=['variable', 'Nombre des valeurs manquantes'])"
   ]
  },
  {
   "cell_type": "code",
   "execution_count": 6,
   "id": "cedc1f7f",
   "metadata": {},
   "outputs": [
    {
     "name": "stdout",
     "output_type": "stream",
     "text": [
      "['Clothing,Shoes & Jewelry' 'Toys & Games' 'Health, Household & Baby Care'\n",
      " 'Electronics' 'Home & Kitchen' 'Pet Supplies' 'Beauty & Personal Care'\n",
      " 'Sports & outdoors' 'Office Supplies']\n"
     ]
    },
    {
     "data": {
      "text/html": [
       "<div>\n",
       "<style scoped>\n",
       "    .dataframe tbody tr th:only-of-type {\n",
       "        vertical-align: middle;\n",
       "    }\n",
       "\n",
       "    .dataframe tbody tr th {\n",
       "        vertical-align: top;\n",
       "    }\n",
       "\n",
       "    .dataframe thead th {\n",
       "        text-align: right;\n",
       "    }\n",
       "</style>\n",
       "<table border=\"1\" class=\"dataframe\">\n",
       "  <thead>\n",
       "    <tr style=\"text-align: right;\">\n",
       "      <th></th>\n",
       "      <th>Age</th>\n",
       "      <th>Seniority</th>\n",
       "      <th>Orders</th>\n",
       "      <th>Items</th>\n",
       "      <th>AverageDiscount</th>\n",
       "      <th>BrowsingTime</th>\n",
       "      <th>EmailsOpened</th>\n",
       "      <th>SupportInteractions</th>\n",
       "      <th>TotalCart</th>\n",
       "    </tr>\n",
       "  </thead>\n",
       "  <tbody>\n",
       "    <tr>\n",
       "      <th>count</th>\n",
       "      <td>1000.00000</td>\n",
       "      <td>1000.000000</td>\n",
       "      <td>1000.000000</td>\n",
       "      <td>1000.000000</td>\n",
       "      <td>1000.000000</td>\n",
       "      <td>1000.000000</td>\n",
       "      <td>1000.000000</td>\n",
       "      <td>1000.000000</td>\n",
       "      <td>1000.000000</td>\n",
       "    </tr>\n",
       "    <tr>\n",
       "      <th>mean</th>\n",
       "      <td>24.06900</td>\n",
       "      <td>0.508000</td>\n",
       "      <td>3.011000</td>\n",
       "      <td>5.975000</td>\n",
       "      <td>0.371700</td>\n",
       "      <td>97.949068</td>\n",
       "      <td>0.989000</td>\n",
       "      <td>1.012000</td>\n",
       "      <td>35.884260</td>\n",
       "    </tr>\n",
       "    <tr>\n",
       "      <th>std</th>\n",
       "      <td>5.05943</td>\n",
       "      <td>0.720038</td>\n",
       "      <td>1.731438</td>\n",
       "      <td>2.399194</td>\n",
       "      <td>0.219133</td>\n",
       "      <td>100.222845</td>\n",
       "      <td>1.002938</td>\n",
       "      <td>1.022204</td>\n",
       "      <td>17.619171</td>\n",
       "    </tr>\n",
       "    <tr>\n",
       "      <th>min</th>\n",
       "      <td>7.00000</td>\n",
       "      <td>0.000000</td>\n",
       "      <td>0.000000</td>\n",
       "      <td>1.000000</td>\n",
       "      <td>0.000000</td>\n",
       "      <td>0.012724</td>\n",
       "      <td>0.000000</td>\n",
       "      <td>0.000000</td>\n",
       "      <td>0.000000</td>\n",
       "    </tr>\n",
       "    <tr>\n",
       "      <th>25%</th>\n",
       "      <td>21.00000</td>\n",
       "      <td>0.000000</td>\n",
       "      <td>2.000000</td>\n",
       "      <td>4.000000</td>\n",
       "      <td>0.180000</td>\n",
       "      <td>29.333357</td>\n",
       "      <td>0.000000</td>\n",
       "      <td>0.000000</td>\n",
       "      <td>25.575000</td>\n",
       "    </tr>\n",
       "    <tr>\n",
       "      <th>50%</th>\n",
       "      <td>24.00000</td>\n",
       "      <td>0.000000</td>\n",
       "      <td>3.000000</td>\n",
       "      <td>6.000000</td>\n",
       "      <td>0.380000</td>\n",
       "      <td>68.037177</td>\n",
       "      <td>1.000000</td>\n",
       "      <td>1.000000</td>\n",
       "      <td>33.655000</td>\n",
       "    </tr>\n",
       "    <tr>\n",
       "      <th>75%</th>\n",
       "      <td>27.00000</td>\n",
       "      <td>1.000000</td>\n",
       "      <td>4.000000</td>\n",
       "      <td>7.000000</td>\n",
       "      <td>0.560000</td>\n",
       "      <td>127.063901</td>\n",
       "      <td>2.000000</td>\n",
       "      <td>2.000000</td>\n",
       "      <td>43.772500</td>\n",
       "    </tr>\n",
       "    <tr>\n",
       "      <th>max</th>\n",
       "      <td>41.00000</td>\n",
       "      <td>4.000000</td>\n",
       "      <td>9.000000</td>\n",
       "      <td>15.000000</td>\n",
       "      <td>0.750000</td>\n",
       "      <td>831.026761</td>\n",
       "      <td>5.000000</td>\n",
       "      <td>7.000000</td>\n",
       "      <td>138.880000</td>\n",
       "    </tr>\n",
       "  </tbody>\n",
       "</table>\n",
       "</div>"
      ],
      "text/plain": [
       "              Age    Seniority       Orders        Items  AverageDiscount  \\\n",
       "count  1000.00000  1000.000000  1000.000000  1000.000000      1000.000000   \n",
       "mean     24.06900     0.508000     3.011000     5.975000         0.371700   \n",
       "std       5.05943     0.720038     1.731438     2.399194         0.219133   \n",
       "min       7.00000     0.000000     0.000000     1.000000         0.000000   \n",
       "25%      21.00000     0.000000     2.000000     4.000000         0.180000   \n",
       "50%      24.00000     0.000000     3.000000     6.000000         0.380000   \n",
       "75%      27.00000     1.000000     4.000000     7.000000         0.560000   \n",
       "max      41.00000     4.000000     9.000000    15.000000         0.750000   \n",
       "\n",
       "       BrowsingTime  EmailsOpened  SupportInteractions    TotalCart  \n",
       "count   1000.000000   1000.000000          1000.000000  1000.000000  \n",
       "mean      97.949068      0.989000             1.012000    35.884260  \n",
       "std      100.222845      1.002938             1.022204    17.619171  \n",
       "min        0.012724      0.000000             0.000000     0.000000  \n",
       "25%       29.333357      0.000000             0.000000    25.575000  \n",
       "50%       68.037177      1.000000             1.000000    33.655000  \n",
       "75%      127.063901      2.000000             2.000000    43.772500  \n",
       "max      831.026761      5.000000             7.000000   138.880000  "
      ]
     },
     "execution_count": 6,
     "metadata": {},
     "output_type": "execute_result"
    }
   ],
   "source": [
    "print(df0['TopCategory'].unique())\n",
    "df0.describe()"
   ]
  },
  {
   "cell_type": "markdown",
   "id": "a927fe13",
   "metadata": {},
   "source": [
    "Il est important de vérifier si les variables sont indépendantes les unes des autres avant d'utiliser un modèle de machine learning. Cela peut aider à éviter des problèmes tels que la colinéarité, qui peut rendre les résultats du modèle peu fiables.\n",
    "\n",
    "Pour vérifier si les variables sont indépendantes, on peut utiliser la matrice de corrélation. Si deux variables sont fortement corrélées, cela peut indiquer une dépendance entre elles. "
   ]
  },
  {
   "cell_type": "code",
   "execution_count": 7,
   "id": "5db810a3",
   "metadata": {},
   "outputs": [
    {
     "data": {
      "text/plain": [
       "<AxesSubplot:>"
      ]
     },
     "execution_count": 7,
     "metadata": {},
     "output_type": "execute_result"
    },
    {
     "data": {
      "image/png": "[encoded data removed]",
      "text/plain": [
       "<Figure size 640x480 with 2 Axes>"
      ]
     },
     "metadata": {},
     "output_type": "display_data"
    }
   ],
   "source": [
    "features = ['Age', 'Seniority', 'Orders', 'Items', 'AverageDiscount', 'BrowsingTime', 'EmailsOpened', 'SupportInteractions']\n",
    "\n",
    "corr_matrix=df0[features].corr()\n",
    "\n",
    "\n",
    "# Affichage de la matrice de corrélation\n",
    "sns.heatmap(corr_matrix, annot=True, fmt='.2f')"
   ]
  },
  {
   "cell_type": "markdown",
   "id": "e6a88098",
   "metadata": {},
   "source": [
    "En observant les résultats de la matrice de corrélation, on constate que la valeur maximale est de 0,05, ce qui est assez faible. Cela suggère qu'il n'y a pas de corrélation forte entre les différentes caractéristiques étudiées, ce qui est une bonne nouvelle pour la mise en place de modèles de prédiction. L'indépendance des caractéristiques est importante pour éviter la redondance et la confusion dans la modélisation et pour garantir que chaque caractéristique apporte une information unique à la prédiction de la variable cible. Ainsi, nous pouvons maintenant passer à l'étape suivante, qui consiste à implémenter différents modèles pour prédire la variable TotalCart en utilisant ces caractéristiques."
   ]
  },
  {
   "cell_type": "markdown",
   "id": "8b668f07",
   "metadata": {},
   "source": [
    "### Modèle 1: Régression Linéaire"
   ]
  },
  {
   "cell_type": "markdown",
   "id": "d42a0553",
   "metadata": {},
   "source": [
    "Le modèle de régression est bien adapté à ce projet car la variable cible (TotalCart) est une variable continue, ce qui signifie qu'elle peut prendre une infinité de valeurs dans une plage donnée. De plus, la régression permet de modéliser la relation entre une variable cible et plusieurs variables explicatives (dans ce cas, Age, Seniority, Orders, Items, AverageDiscount, TopCategory, BrowsingTime, EmailsOpened et SupportInteractions) afin de prédire la valeur de la variable cible en fonction des valeurs des variables explicatives.\n",
    "\n",
    "La régression linéaire est un bon modèle car elle est simple, facile à interpréter et peut être utilisée pour évaluer la relation entre une variable dépendante (**`TotalCart`**)  et plusieurs variables indépendantes continues. "
   ]
  },
  {
   "cell_type": "markdown",
   "id": "c6aafc54",
   "metadata": {},
   "source": [
    "Les modèles de régression linéaire nécessitent que toutes les variables explicatives soient numériques. Alors la variable catégorielle **`TopCategory`** , doit donc être transformées en variables binaires pour être utilisées dans le modèle.\n",
    "\n",
    "Ainsi, la transformation de la variable catégorielle  **`TopCategory`**  en variables binaires permettra de l'inclure dans notre ensemble de caractéristiques et d'améliorer la performance de notre modèle de régression."
   ]
  },
  {
   "cell_type": "code",
   "execution_count": 8,
   "id": "d71dd343",
   "metadata": {},
   "outputs": [
    {
     "data": {
      "text/plain": [
       "Age                                            int64\n",
       "Seniority                                      int64\n",
       "Orders                                         int64\n",
       "Items                                          int64\n",
       "AverageDiscount                              float64\n",
       "BrowsingTime                                 float64\n",
       "EmailsOpened                                   int64\n",
       "SupportInteractions                            int64\n",
       "TopCategory_Clothing,Shoes & Jewelry           uint8\n",
       "TopCategory_Electronics                        uint8\n",
       "TopCategory_Health, Household & Baby Care      uint8\n",
       "TopCategory_Home & Kitchen                     uint8\n",
       "TopCategory_Office Supplies                    uint8\n",
       "TopCategory_Pet Supplies                       uint8\n",
       "TopCategory_Sports & outdoors                  uint8\n",
       "TopCategory_Toys & Games                       uint8\n",
       "dtype: object"
      ]
     },
     "execution_count": 8,
     "metadata": {},
     "output_type": "execute_result"
    }
   ],
   "source": [
    "# Sélectionner les variables indépendantes (caractéristiques)\n",
    "predictors=['Age', 'Seniority', 'Orders', 'Items', 'AverageDiscount','TopCategory', 'BrowsingTime', 'EmailsOpened', 'SupportInteractions']\n",
    "\n",
    "# Comme TopCategory est Catégoriel #Type Object on doit \n",
    "X=pd.get_dummies(df0[predictors],drop_first=True)\n",
    "\n",
    "X.dtypes"
   ]
  },
  {
   "cell_type": "code",
   "execution_count": 9,
   "id": "11bc306a",
   "metadata": {},
   "outputs": [
    {
     "data": {
      "text/plain": [
       "9"
      ]
     },
     "execution_count": 9,
     "metadata": {},
     "output_type": "execute_result"
    }
   ],
   "source": [
    "df0['TopCategory'].nunique()"
   ]
  },
  {
   "cell_type": "markdown",
   "id": "02e63bcc",
   "metadata": {},
   "source": [
    "On remarque qu'à la place de la variable 'TopCategory' on a 8 variables numériques: \n",
    "\n",
    "'TopCategory_Clothing,Shoes & Jewelry', 'TopCategory_Electronics', 'TopCategory_Health, Household & Baby Care', 'TopCategory_Home & Kitchen', 'TopCategory_Office Supplies', 'TopCategory_Pet Supplies', 'TopCategory_Sports & outdoors', 'TopCategory_Toys & Games'.\n",
    "\n",
    "( 8 = Nombre des valeurs uniques de la variable **`TopCategory`** - 1 )"
   ]
  },
  {
   "cell_type": "markdown",
   "id": "08b327de",
   "metadata": {},
   "source": [
    "<b>Remarque:</b>\n",
    "Par défaut, Pandas crée N variables indicatrices pour toutes les modalités de la variable d'origine. Cela signifie que l'une des variables indicatrices sera linéairement dépendante des autres variables indicatrices. Cette redondance peut causer des problèmes dans certains modèles de Machine Learning, en particulier avec les modèles de régression linéaire, car elle peut entraîner une mauvaise estimation des coefficients.\n",
    "\n",
    "Avec <b>drop_first=True</b>, la première variable indicatrice pour la première modalité de la variable catégorielle est supprimée, évitant ainsi la redondance. De cette façon, le nombre de variables créées est égal au nombre de modalités moins un."
   ]
  },
  {
   "cell_type": "code",
   "execution_count": 10,
   "id": "96453814",
   "metadata": {},
   "outputs": [
    {
     "data": {
      "text/plain": [
       "LinearRegression()"
      ]
     },
     "execution_count": 10,
     "metadata": {},
     "output_type": "execute_result"
    }
   ],
   "source": [
    "# Sélectionner la variable dépendante (cible)\n",
    "y = df0['TotalCart']\n",
    "\n",
    "# Créer un objet de modèle de régression linéaire\n",
    "lr = LinearRegression()\n",
    "\n",
    "# Adapter le modèle aux données d'entraînement\n",
    "lr.fit(X, y)"
   ]
  },
  {
   "cell_type": "markdown",
   "id": "c9e7834f",
   "metadata": {},
   "source": [
    "#### Evaluation du modèle:"
   ]
  },
  {
   "cell_type": "code",
   "execution_count": 11,
   "id": "7d0ded19",
   "metadata": {},
   "outputs": [
    {
     "name": "stdout",
     "output_type": "stream",
     "text": [
      "Intercept: -5.229\n",
      "\n",
      "Coefficients:\n",
      "\n"
     ]
    },
    {
     "data": {
      "text/html": [
       "<div>\n",
       "<style scoped>\n",
       "    .dataframe tbody tr th:only-of-type {\n",
       "        vertical-align: middle;\n",
       "    }\n",
       "\n",
       "    .dataframe tbody tr th {\n",
       "        vertical-align: top;\n",
       "    }\n",
       "\n",
       "    .dataframe thead th {\n",
       "        text-align: right;\n",
       "    }\n",
       "</style>\n",
       "<table border=\"1\" class=\"dataframe\">\n",
       "  <thead>\n",
       "    <tr style=\"text-align: right;\">\n",
       "      <th></th>\n",
       "      <th>Variables</th>\n",
       "      <th>coef</th>\n",
       "    </tr>\n",
       "  </thead>\n",
       "  <tbody>\n",
       "    <tr>\n",
       "      <th>0</th>\n",
       "      <td>Age</td>\n",
       "      <td>0.588468</td>\n",
       "    </tr>\n",
       "    <tr>\n",
       "      <th>1</th>\n",
       "      <td>Seniority</td>\n",
       "      <td>-0.136806</td>\n",
       "    </tr>\n",
       "    <tr>\n",
       "      <th>2</th>\n",
       "      <td>Orders</td>\n",
       "      <td>4.739969</td>\n",
       "    </tr>\n",
       "    <tr>\n",
       "      <th>3</th>\n",
       "      <td>Items</td>\n",
       "      <td>0.140615</td>\n",
       "    </tr>\n",
       "    <tr>\n",
       "      <th>4</th>\n",
       "      <td>AverageDiscount</td>\n",
       "      <td>-0.489526</td>\n",
       "    </tr>\n",
       "    <tr>\n",
       "      <th>5</th>\n",
       "      <td>BrowsingTime</td>\n",
       "      <td>0.134803</td>\n",
       "    </tr>\n",
       "    <tr>\n",
       "      <th>6</th>\n",
       "      <td>EmailsOpened</td>\n",
       "      <td>0.086694</td>\n",
       "    </tr>\n",
       "    <tr>\n",
       "      <th>7</th>\n",
       "      <td>SupportInteractions</td>\n",
       "      <td>-0.051586</td>\n",
       "    </tr>\n",
       "    <tr>\n",
       "      <th>8</th>\n",
       "      <td>TopCategory_Clothing,Shoes &amp; Jewelry</td>\n",
       "      <td>-2.026787</td>\n",
       "    </tr>\n",
       "    <tr>\n",
       "      <th>9</th>\n",
       "      <td>TopCategory_Electronics</td>\n",
       "      <td>-1.538799</td>\n",
       "    </tr>\n",
       "    <tr>\n",
       "      <th>10</th>\n",
       "      <td>TopCategory_Health, Household &amp; Baby Care</td>\n",
       "      <td>-0.154287</td>\n",
       "    </tr>\n",
       "    <tr>\n",
       "      <th>11</th>\n",
       "      <td>TopCategory_Home &amp; Kitchen</td>\n",
       "      <td>-1.951756</td>\n",
       "    </tr>\n",
       "    <tr>\n",
       "      <th>12</th>\n",
       "      <td>TopCategory_Office Supplies</td>\n",
       "      <td>-8.958871</td>\n",
       "    </tr>\n",
       "    <tr>\n",
       "      <th>13</th>\n",
       "      <td>TopCategory_Pet Supplies</td>\n",
       "      <td>-4.750802</td>\n",
       "    </tr>\n",
       "    <tr>\n",
       "      <th>14</th>\n",
       "      <td>TopCategory_Sports &amp; outdoors</td>\n",
       "      <td>0.407846</td>\n",
       "    </tr>\n",
       "    <tr>\n",
       "      <th>15</th>\n",
       "      <td>TopCategory_Toys &amp; Games</td>\n",
       "      <td>-1.223105</td>\n",
       "    </tr>\n",
       "  </tbody>\n",
       "</table>\n",
       "</div>"
      ],
      "text/plain": [
       "                                    Variables      coef\n",
       "0                                         Age  0.588468\n",
       "1                                   Seniority -0.136806\n",
       "2                                      Orders  4.739969\n",
       "3                                       Items  0.140615\n",
       "4                             AverageDiscount -0.489526\n",
       "5                                BrowsingTime  0.134803\n",
       "6                                EmailsOpened  0.086694\n",
       "7                         SupportInteractions -0.051586\n",
       "8        TopCategory_Clothing,Shoes & Jewelry -2.026787\n",
       "9                     TopCategory_Electronics -1.538799\n",
       "10  TopCategory_Health, Household & Baby Care -0.154287\n",
       "11                 TopCategory_Home & Kitchen -1.951756\n",
       "12                TopCategory_Office Supplies -8.958871\n",
       "13                   TopCategory_Pet Supplies -4.750802\n",
       "14              TopCategory_Sports & outdoors  0.407846\n",
       "15                   TopCategory_Toys & Games -1.223105"
      ]
     },
     "execution_count": 11,
     "metadata": {},
     "output_type": "execute_result"
    }
   ],
   "source": [
    "print(f'Intercept: {lr.intercept_:.3f}')\n",
    "print('\\nCoefficients:\\n')\n",
    "pd.DataFrame({\"Variables\":X.columns,\"coef\":lr.coef_}).rename(columns={X.columns[0]: \"Variable\"})"
   ]
  },
  {
   "cell_type": "code",
   "execution_count": 12,
   "id": "98c3dbe2",
   "metadata": {},
   "outputs": [
    {
     "name": "stdout",
     "output_type": "stream",
     "text": [
      "RMSE: 8\n",
      "r2: 0.7965\n"
     ]
    }
   ],
   "source": [
    "fitted = lr.predict(X)\n",
    "RMSE = np.sqrt(mean_squared_error(df0['TotalCart'], fitted))\n",
    "r2 = r2_score(df0['TotalCart'], fitted)\n",
    "print(f'RMSE: {RMSE:.0f}')\n",
    "print(f'r2: {r2:.4f}')"
   ]
  },
  {
   "cell_type": "markdown",
   "id": "36e1c268",
   "metadata": {},
   "source": [
    "Le RMSE (Root Mean Squared Error) de 8 signifie que les prédictions de notre modèle de régression sont en moyenne écartées de 8 unités de la variable cible (TotalCart) par rapport aux valeurs réelles. Ce score n'est pas trop élevé, ce qui indique que le modèle peut être considéré comme relativement précis.\n",
    "\n",
    "Le R2 de 0.7965 signifie que le modèle de régression explique environ 80% de la variation dans la variable cible (TotalCart). Cela indique que le modèle est assez performant pour prédire la variable cible, mais il peut encore y avoir de l'incertitude ou du bruit dans les données qui ne peuvent pas être expliqués par les variables indépendantes."
   ]
  },
  {
   "cell_type": "markdown",
   "id": "d6a3237b",
   "metadata": {},
   "source": [
    "##### Stepwise Selection:\n",
    "\n",
    "Le Stepwise Selection est une technique de sélection de variables qui permet d'identifier les variables les plus importantes dans un modèle de régression. En utilisant cette technique, nous pouvons éliminer les variables qui ont peu d'impact sur la prédiction de la variable cible, ce qui peut améliorer la performance du modèle. Nous allons donc utiliser cette technique pour essayer d'améliorer notre modèle de régression et obtenir de meilleures prédictions pour la variable TotalCart."
   ]
  },
  {
   "cell_type": "code",
   "execution_count": 13,
   "id": "01ea7c25",
   "metadata": {},
   "outputs": [
    {
     "name": "stdout",
     "output_type": "stream",
     "text": [
      "Variables: Age, Seniority, Orders, Items, AverageDiscount, BrowsingTime, EmailsOpened, SupportInteractions, TopCategory_Clothing,Shoes & Jewelry, TopCategory_Electronics, TopCategory_Health, Household & Baby Care, TopCategory_Home & Kitchen, TopCategory_Office Supplies, TopCategory_Pet Supplies, TopCategory_Sports & outdoors, TopCategory_Toys & Games\n",
      "Start: score=8578.85, constant\n",
      "Step: score=7775.51, add BrowsingTime\n",
      "Step: score=7139.53, add Orders\n",
      "Step: score=7011.53, add Age\n",
      "Step: score=7009.98, add TopCategory_Clothing,Shoes & Jewelry\n",
      "Step: score=7008.38, add TopCategory_Home & Kitchen\n",
      "Step: score=7007.07, add TopCategory_Office Supplies\n",
      "Step: score=7006.41, add TopCategory_Pet Supplies\n",
      "Step: score=7006.41, unchanged None\n",
      "\n",
      "Intercept: -5.195\n",
      "\n",
      "Coefficients:\n"
     ]
    },
    {
     "data": {
      "text/html": [
       "<div>\n",
       "<style scoped>\n",
       "    .dataframe tbody tr th:only-of-type {\n",
       "        vertical-align: middle;\n",
       "    }\n",
       "\n",
       "    .dataframe tbody tr th {\n",
       "        vertical-align: top;\n",
       "    }\n",
       "\n",
       "    .dataframe thead th {\n",
       "        text-align: right;\n",
       "    }\n",
       "</style>\n",
       "<table border=\"1\" class=\"dataframe\">\n",
       "  <thead>\n",
       "    <tr style=\"text-align: right;\">\n",
       "      <th></th>\n",
       "      <th>Variables</th>\n",
       "      <th>coef</th>\n",
       "    </tr>\n",
       "  </thead>\n",
       "  <tbody>\n",
       "    <tr>\n",
       "      <th>0</th>\n",
       "      <td>BrowsingTime</td>\n",
       "      <td>0.134608</td>\n",
       "    </tr>\n",
       "    <tr>\n",
       "      <th>1</th>\n",
       "      <td>Orders</td>\n",
       "      <td>4.749380</td>\n",
       "    </tr>\n",
       "    <tr>\n",
       "      <th>2</th>\n",
       "      <td>Age</td>\n",
       "      <td>0.592020</td>\n",
       "    </tr>\n",
       "    <tr>\n",
       "      <th>3</th>\n",
       "      <td>TopCategory_Clothing,Shoes &amp; Jewelry</td>\n",
       "      <td>-1.540561</td>\n",
       "    </tr>\n",
       "    <tr>\n",
       "      <th>4</th>\n",
       "      <td>TopCategory_Home &amp; Kitchen</td>\n",
       "      <td>-1.438985</td>\n",
       "    </tr>\n",
       "    <tr>\n",
       "      <th>5</th>\n",
       "      <td>TopCategory_Office Supplies</td>\n",
       "      <td>-8.592136</td>\n",
       "    </tr>\n",
       "    <tr>\n",
       "      <th>6</th>\n",
       "      <td>TopCategory_Pet Supplies</td>\n",
       "      <td>-4.400474</td>\n",
       "    </tr>\n",
       "  </tbody>\n",
       "</table>\n",
       "</div>"
      ],
      "text/plain": [
       "                              Variables      coef\n",
       "0                          BrowsingTime  0.134608\n",
       "1                                Orders  4.749380\n",
       "2                                   Age  0.592020\n",
       "3  TopCategory_Clothing,Shoes & Jewelry -1.540561\n",
       "4            TopCategory_Home & Kitchen -1.438985\n",
       "5           TopCategory_Office Supplies -8.592136\n",
       "6              TopCategory_Pet Supplies -4.400474"
      ]
     },
     "execution_count": 13,
     "metadata": {},
     "output_type": "execute_result"
    }
   ],
   "source": [
    "# A function that returns a fitted model for a given set of variables\n",
    "def train_model(variables):\n",
    "    if len(variables) == 0:\n",
    "        return None\n",
    "    model = LinearRegression()\n",
    "    model.fit(X[variables], y)\n",
    "    return model\n",
    "\n",
    "# A function returns a score for a given model and a set of variables\n",
    "# 'AIC_score' is taken from the package dmba\n",
    "def score_model(model, variables):\n",
    "    if len(variables) == 0:\n",
    "        return AIC_score(y, [y.mean()] * len(y), model, df=1)\n",
    "    return AIC_score(y, model.predict(X[variables]), model)\n",
    "\n",
    "best_Linear_model, best_variables = stepwise_selection(X.columns, train_model, score_model, \n",
    "                                                verbose=True)\n",
    "\n",
    "print()\n",
    "\n",
    "print(f'Intercept: {best_Linear_model.intercept_:.3f}')\n",
    "print('\\nCoefficients:')\n",
    "pd.DataFrame({\"Variables\":best_variables,\"coef\":best_Linear_model.coef_})"
   ]
  },
  {
   "cell_type": "code",
   "execution_count": 14,
   "id": "7b1f1fc4",
   "metadata": {},
   "outputs": [
    {
     "name": "stdout",
     "output_type": "stream",
     "text": [
      "RMSE: 8\n",
      "r2: 0.7953\n"
     ]
    }
   ],
   "source": [
    "fitted = best_Linear_model.predict(X[best_variables])\n",
    "\n",
    "RMSE = np.sqrt(mean_squared_error(df0['TotalCart'], fitted))\n",
    "r2 = r2_score(df0['TotalCart'], fitted)\n",
    "print(f'RMSE: {RMSE:.0f}')\n",
    "print(f'r2: {r2:.4f}')"
   ]
  },
  {
   "cell_type": "markdown",
   "id": "3040c0b0",
   "metadata": {},
   "source": [
    "Après avoir effectué une sélection de caractéristiques en utilisant le stepwise, nous avons constaté que les résultats n'étaient pas meilleurs que le modèle initial avec toutes les variables. Par conséquent, il n'est pas nécessaire de supprimer certaines variables. Nous utiliserons donc le modèle initial comme notre modèle de regression linéaire pour ce test."
   ]
  },
  {
   "cell_type": "markdown",
   "id": "93c0df22",
   "metadata": {},
   "source": [
    "### Modèle 2: Random Forest Regression"
   ]
  },
  {
   "cell_type": "markdown",
   "id": "beab51cd",
   "metadata": {},
   "source": [
    "Decision Tree Regression est un bon modèle pour notre projet pour plusieurs raisons. Tout d'abord, ce modèle est capable de gérer des données avec des relations complexes et non-linéaires entre les caractéristiques et la variable cible, ce qui est important pour notre ensemble de données. De plus, les arbres de décision sont capables de gérer des caractéristiques qualitatives et quantitatives, ce qui est utile car notre ensemble de caractéristiques contient une variable catégorielle **`TopCategory`**. \n",
    "\n",
    "Le Random Forest Regression peut être considéré comme une extension de la decision tree regression. Il utilise une combinaison de plusieurs arbres de décision pour améliorer la précision des prévisions. En général, Random Forest Regression a tendance à offrir des performances supérieures à la decision tree regression en raison de sa capacité à réduire le surajustement (overfitting)"
   ]
  },
  {
   "cell_type": "code",
   "execution_count": 15,
   "id": "c7dbde48",
   "metadata": {},
   "outputs": [
    {
     "name": "stdout",
     "output_type": "stream",
     "text": [
      "RMSE: 2.1806939240640797\n",
      "R2: 0.9803668074375267\n"
     ]
    }
   ],
   "source": [
    "# Diviser les données en ensemble d'entraînement et ensemble de test\n",
    "X_train, X_test, y_train, y_test = train_test_split(X, y, test_size=0.2, random_state=42)\n",
    "\n",
    "# Initialiser le modèle\n",
    "rf_model = RandomForestRegressor(random_state=42)\n",
    "\n",
    "# Entraîner le modèle sur l'ensemble d'entraînement\n",
    "rf_model.fit(X_train, y_train)\n",
    "\n",
    "# Faire des prédictions sur l'ensemble de test\n",
    "y_pred = rf_model.predict(X_test)\n",
    "\n",
    "# Calculer les métriques de performance\n",
    "rmse = mean_squared_error(y_test, y_pred, squared=False)\n",
    "r2 = r2_score(y_test, y_pred)\n",
    "\n",
    "print(\"RMSE:\", rmse)\n",
    "print(\"R2:\", r2)"
   ]
  },
  {
   "cell_type": "markdown",
   "id": "84fe1294",
   "metadata": {},
   "source": [
    "Le résultat de la performance du modèle de Random Forest Regression est très satisfaisant. En effet, le RMSE (Root Mean Squared Error) de 2.18 indique que les prédictions ont une erreur moyenne de seulement 2.18 unités par rapport aux valeurs réelles. De plus, le R2 (coefficient de détermination) de 0.98 indique que le modèle explique 98% de la variance totale des données, ce qui est un excellent résultat. \n",
    "\n",
    "Il est important de noter que même si les résultats du modèle avec les hyperparamètres par défaut sont très bons, cela ne signifie pas nécessairement que ces hyperparamètres sont optimaux pour le modèle. Les hyperparamètres optimaux peuvent différer si les ensembles d'entraînement et de test diffèrent.\n",
    "\n",
    "Ainsi, On va utiliser une approche de validation croisée <b>GridSearchCV</b> pour estimer les performances du modèle et sélectionner les hyperparamètres optimaux. De cette façon, chaque échantillon de données est utilisé à la fois pour l'entraînement et la validation, ce qui réduit le risque de surajustement du modèle à des données spécifiques. En utilisant cette approche, on peut être plus confiant que les hyperparamètres choisis fonctionnent bien pour les données en général, plutôt que d'être simplement adaptés aux données d'entraînement spécifiques."
   ]
  },
  {
   "cell_type": "code",
   "execution_count": 16,
   "id": "f76a2e7a",
   "metadata": {},
   "outputs": [],
   "source": [
    "# pour determiner les hyperparamètres de RandomForestRegressor.\n",
    "#help(RandomForestRegressor)"
   ]
  },
  {
   "cell_type": "code",
   "execution_count": 16,
   "id": "8d836990",
   "metadata": {},
   "outputs": [
    {
     "name": "stdout",
     "output_type": "stream",
     "text": [
      "RMSE: 4.203894062685201\n",
      "R2: 0.9270366063051854\n",
      "Meilleurs hyperparamètres: {'max_depth': 20, 'max_features': 'sqrt', 'min_samples_leaf': 1, 'min_samples_split': 2, 'n_estimators': 50}\n"
     ]
    }
   ],
   "source": [
    "# Définir les hyperparamètres à tester\n",
    "param_grid = {\n",
    "    'n_estimators': [50, 100, 150],\n",
    "    'max_depth': [5, 10, 20],\n",
    "    'min_samples_split': [2, 5, 10],\n",
    "    'min_samples_leaf': [1, 2, 4],\n",
    "    'max_features': ['sqrt', 'log2']\n",
    "}\n",
    "\n",
    "# Initialiser le modèle\n",
    "rf_model = RandomForestRegressor(random_state=42)\n",
    "\n",
    "# Effectuer une recherche sur grille pour trouver les meilleurs hyperparamètres\n",
    "grid_search = GridSearchCV(rf_model, param_grid, cv=5)\n",
    "grid_search.fit(X_train, y_train)\n",
    "\n",
    "# Utiliser les meilleurs hyperparamètres pour entraîner le modèle sur l'ensemble d'entraînement\n",
    "best_rf_model = grid_search.best_estimator_\n",
    "best_rf_model.fit(X_train, y_train)\n",
    "\n",
    "# Faire des prédictions sur l'ensemble de test avec le modèle entraîné avec les meilleurs hyperparamètres\n",
    "y_pred = best_rf_model.predict(X_test)\n",
    "\n",
    "# Calculer les métriques de performance\n",
    "rmse = mean_squared_error(y_test, y_pred, squared=False)\n",
    "r2 = r2_score(y_test, y_pred)\n",
    "\n",
    "print(\"RMSE:\", rmse)\n",
    "print(\"R2:\", r2)\n",
    "print(\"Meilleurs hyperparamètres:\", grid_search.best_params_)"
   ]
  },
  {
   "cell_type": "code",
   "execution_count": 17,
   "id": "68d87698",
   "metadata": {},
   "outputs": [],
   "source": [
    "rf_model = RandomForestRegressor(max_depth= 20, max_features='sqrt', min_samples_leaf= 1, min_samples_split= 2, n_estimators=50)"
   ]
  },
  {
   "cell_type": "markdown",
   "id": "06511513",
   "metadata": {},
   "source": [
    "<b>NB:</b> Si vous testez la performance de Random Forest après l'optimisation des hyperparamètres, vous pourriez constater une diminution du R2 et une augmentation du RMSE. Ceci peut s'expliquer par le fait qu'on a pas utilisé GridSearch pour tous les hyperparamètres, car cela peut prendre beaucoup de temps. Notre but était simplement de faire une optimisation indicative et on a pas pu faire une recherche extensive sur un plus grand nombre d'hyperparamètres en raison de la contrainte de temps nécessaire pour obtenir des résultats."
   ]
  },
  {
   "cell_type": "markdown",
   "id": "ab564284",
   "metadata": {},
   "source": [
    "### Modèle 3: KNN Regression"
   ]
  },
  {
   "cell_type": "markdown",
   "id": "b8204ccf",
   "metadata": {},
   "source": [
    "Le modèle KNN (K-Nearest Neighbors) peut être utile pour notre projet de prédiction du panier total des clients. Le modèle KNN utilise les caractéristiques des clients pour les classer en groupes en fonction de leur proximité les uns avec les autres. Ensuite, lorsque de nouveaux clients sont ajoutés, ils sont classés dans l'un de ces groupes en fonction de leurs caractéristiques similaires. Ce modèle peut être particulièrement utile pour notre projet car il peut prendre en compte les relations complexes entre les variables et peut être utilisé pour prédire des valeurs continues telles que le panier total des clients.\n",
    "\n",
    "Cependant, <b>il est important de noter que KNN n'est pas normalement utilisé pour prédire des valeurs numériques</b>. En effet, ce modèle est souvent utilisé pour la classification et la prédiction de valeurs catégorielles. Néanmoins, il serait intéressant de voir comment KNN calcule les moyennes et prédit des valeurs numériques dans le cadre de ce test.\n",
    "\n",
    "<b>RQ:</b> De même pour Random Forest. "
   ]
  },
  {
   "cell_type": "code",
   "execution_count": 18,
   "id": "4b8c4f37",
   "metadata": {
    "scrolled": true
   },
   "outputs": [
    {
     "name": "stdout",
     "output_type": "stream",
     "text": [
      "RMSE: 5.907296887782784\n",
      "R2: 0.8559281624756082\n"
     ]
    }
   ],
   "source": [
    "# Initialisation du modèle KNN avec un k = 7 (randomly chosen) \n",
    "knn = KNeighborsRegressor(n_neighbors=7)\n",
    "\n",
    "# Entraînement du modèle sur les données d'entraînement\n",
    "knn.fit(X_train, y_train)\n",
    "\n",
    "# Prédiction des valeurs sur les données de test\n",
    "y_pred = knn.predict(X_test)\n",
    "\n",
    "# Calcul de la racine carrée de l'erreur quadratique moyenne (RMSE)\n",
    "rmse = mean_squared_error(y_test, y_pred, squared=False)\n",
    "\n",
    "r2 = r2_score(y_test, y_pred)\n",
    "\n",
    "print(\"RMSE:\", rmse)\n",
    "print(\"R2:\", r2)"
   ]
  },
  {
   "cell_type": "markdown",
   "id": "29e1c622",
   "metadata": {},
   "source": [
    "Les résultats obtenus sont plutôt satisfaisants, avec un RMSE de 5.27 et un R2 de 0.88. Cependant, il est toujours important  d'essayer d'optimiser le choix des hyperparamètres pour améliorer encore les performances du modèle.\n",
    "\n",
    "Alors, on va utiliser <b>GridSearchCV</b> pour optimiser les paramètres comme avant."
   ]
  },
  {
   "cell_type": "code",
   "execution_count": 19,
   "id": "011f02f3",
   "metadata": {},
   "outputs": [],
   "source": [
    "# pour determiner les hyperparamètres de KNN.\n",
    "#help(KNeighborsRegressor)"
   ]
  },
  {
   "cell_type": "code",
   "execution_count": 20,
   "id": "45fd3a9a",
   "metadata": {
    "collapsed": true
   },
   "outputs": [
    {
     "name": "stdout",
     "output_type": "stream",
     "text": [
      "Hyperparamètres optimaux : {'n_neighbors': 5, 'p': 1, 'weights': 'uniform'}\n"
     ]
    },
    {
     "name": "stderr",
     "output_type": "stream",
     "text": [
      "C:\\Users\\Youssef\\anaconda3\\lib\\site-packages\\sklearn\\model_selection\\_validation.py:372: FitFailedWarning: \n",
      "20 fits failed out of a total of 300.\n",
      "The score on these train-test partitions for these parameters will be set to nan.\n",
      "If these failures are not expected, you can try to debug them by setting error_score='raise'.\n",
      "\n",
      "Below are more details about the failures:\n",
      "--------------------------------------------------------------------------------\n",
      "20 fits failed with the following error:\n",
      "Traceback (most recent call last):\n",
      "  File \"C:\\Users\\Youssef\\anaconda3\\lib\\site-packages\\sklearn\\model_selection\\_validation.py\", line 680, in _fit_and_score\n",
      "    estimator.fit(X_train, y_train, **fit_params)\n",
      "  File \"C:\\Users\\Youssef\\anaconda3\\lib\\site-packages\\sklearn\\neighbors\\_regression.py\", line 213, in fit\n",
      "    return self._fit(X, y)\n",
      "  File \"C:\\Users\\Youssef\\anaconda3\\lib\\site-packages\\sklearn\\neighbors\\_base.py\", line 569, in _fit\n",
      "    raise ValueError(\"Expected n_neighbors > 0. Got %d\" % self.n_neighbors)\n",
      "ValueError: Expected n_neighbors > 0. Got 0\n",
      "\n",
      "  warnings.warn(some_fits_failed_message, FitFailedWarning)\n",
      "C:\\Users\\Youssef\\anaconda3\\lib\\site-packages\\sklearn\\model_selection\\_search.py:969: UserWarning: One or more of the test scores are non-finite: [       nan        nan        nan        nan 0.24422026 0.24422026\n",
      " 0.26430048 0.26430048 0.42824853 0.41088886 0.43831836 0.40886294\n",
      " 0.51784109 0.49643479 0.495897   0.46371282 0.53690821 0.52105769\n",
      " 0.52141481 0.49274545 0.54732424 0.53517346 0.52879632 0.50446692\n",
      " 0.54037688 0.53428231 0.53389378 0.51253657 0.54514313 0.54127373\n",
      " 0.52551694 0.51023551 0.54294768 0.54049171 0.52785859 0.5129324\n",
      " 0.54728478 0.54407057 0.53423384 0.51732704 0.53935328 0.53918336\n",
      " 0.52811569 0.51509355 0.53710869 0.53873822 0.5206479  0.511037\n",
      " 0.53596787 0.5387639  0.52064691 0.51196568 0.53339536 0.53818825\n",
      " 0.52059152 0.51190928 0.53452511 0.53953837 0.51594946 0.50974457]\n",
      "  warnings.warn(\n"
     ]
    }
   ],
   "source": [
    "knn = KNeighborsRegressor()\n",
    "\n",
    "# Définir les hyperparamètres à optimiser\n",
    "param_grid = {'n_neighbors': range(0,15),\n",
    "              'weights': ['uniform', 'distance'],\n",
    "              'p': [1, 2]} #1 equivalent to using manhattan_distance, and 2 euclidean_distance\n",
    "\n",
    "# Appliquer GridSearchCV pour trouver les hyperparamètres optimaux\n",
    "grid_search = GridSearchCV(knn, param_grid, cv=5)\n",
    "grid_search.fit(X_train, y_train)\n",
    "\n",
    "# Afficher les hyperparamètres optimaux\n",
    "print(\"Hyperparamètres optimaux :\", grid_search.best_params_)"
   ]
  },
  {
   "cell_type": "code",
   "execution_count": 20,
   "id": "231004b1",
   "metadata": {},
   "outputs": [],
   "source": [
    "knn = KNeighborsRegressor(n_neighbors= 5, p= 1,weights='uniform')"
   ]
  },
  {
   "cell_type": "markdown",
   "id": "f92b5619",
   "metadata": {},
   "source": [
    "* **Entrainez votre modèle sur toute la période 0** puis **testez votre modèle** sur les données des **périodes 1, 2 et 3**. Comment évolue la performance du modèle?"
   ]
  },
  {
   "cell_type": "code",
   "execution_count": 21,
   "id": "25e2ab64",
   "metadata": {},
   "outputs": [],
   "source": [
    "df1=pd.read_csv('period_1.csv')\n",
    "df2=pd.read_csv('period_2.csv')\n",
    "df3=pd.read_csv('period_3.csv')"
   ]
  },
  {
   "cell_type": "code",
   "execution_count": 22,
   "id": "07892b7f",
   "metadata": {},
   "outputs": [
    {
     "name": "stdout",
     "output_type": "stream",
     "text": [
      "Number of empty values in period_1 = 0\n",
      "Number of empty values in period_2 = 0\n",
      "Number of empty values in period_3 = 0\n",
      "Tout les datasets on les mêmes colonnes.\n",
      "Tout les datasets on les mêmes dtypes.\n"
     ]
    }
   ],
   "source": [
    "print(\"Number of empty values in period_1 =\",df1.isna().sum().sum())\n",
    "print(\"Number of empty values in period_2 =\",df2.isna().sum().sum())\n",
    "print(\"Number of empty values in period_3 =\",df3.isna().sum().sum())\n",
    "\n",
    "# On s'assure que tout les datasets on les mêmes atributs.\n",
    "if (list(df0.columns)==list(df1.columns)==list(df2.columns)==list(df3.columns)):\n",
    "    print(\"Tout les datasets on les mêmes colonnes.\")\n",
    "\n",
    "# De même pour leurs types.\n",
    "if (list(df0.dtypes.values)==list(df1.dtypes.values)==list(df2.dtypes.values)==list(df3.dtypes.values)):\n",
    "    print(\"Tout les datasets on les mêmes dtypes.\")"
   ]
  },
  {
   "cell_type": "markdown",
   "id": "8142862b",
   "metadata": {},
   "source": [
    "### Modèle 1: Régression Linéaire"
   ]
  },
  {
   "cell_type": "markdown",
   "id": "325148f4",
   "metadata": {},
   "source": [
    "Dans notre cas, nous avons entraîné déjà le modèle de régression linéaire en utilisant toutes les données disponibles de la periode_0. Maintenant que notre modèle est entraîné, nous pouvons l'utiliser pour prédire les valeurs de la variable cible pour les données de la période 1, période 2 et période 3."
   ]
  },
  {
   "cell_type": "markdown",
   "id": "fd1b465b",
   "metadata": {},
   "source": [
    "#### Period_1"
   ]
  },
  {
   "cell_type": "code",
   "execution_count": 23,
   "id": "d096058e",
   "metadata": {},
   "outputs": [
    {
     "name": "stdout",
     "output_type": "stream",
     "text": [
      "RMSE: 9\n",
      "r2: 0.7453\n"
     ]
    }
   ],
   "source": [
    "X=pd.get_dummies(df1[predictors],drop_first=True)\n",
    "\n",
    "fitted = lr.predict(X)\n",
    "\n",
    "RMSE = np.sqrt(mean_squared_error(df1['TotalCart'], fitted))\n",
    "\n",
    "r2 = r2_score(df1['TotalCart'], fitted)\n",
    "\n",
    "print(f'RMSE: {RMSE:.0f}')\n",
    "print(f'r2: {r2:.4f}')"
   ]
  },
  {
   "cell_type": "markdown",
   "id": "aee738cf",
   "metadata": {},
   "source": [
    "#### Period_2"
   ]
  },
  {
   "cell_type": "code",
   "execution_count": 24,
   "id": "09ae8ce5",
   "metadata": {},
   "outputs": [
    {
     "name": "stdout",
     "output_type": "stream",
     "text": [
      "RMSE: 11\n",
      "r2: 0.7106\n"
     ]
    }
   ],
   "source": [
    "X=pd.get_dummies(df2[predictors],drop_first=True)\n",
    "\n",
    "fitted = lr.predict(X)\n",
    "\n",
    "RMSE = np.sqrt(mean_squared_error(df2['TotalCart'], fitted))\n",
    "\n",
    "r2 = r2_score(df2['TotalCart'], fitted)\n",
    "\n",
    "print(f'RMSE: {RMSE:.0f}')\n",
    "print(f'r2: {r2:.4f}')"
   ]
  },
  {
   "cell_type": "markdown",
   "id": "aa84d63f",
   "metadata": {},
   "source": [
    "#### Period_3"
   ]
  },
  {
   "cell_type": "code",
   "execution_count": 25,
   "id": "3fd72cc1",
   "metadata": {},
   "outputs": [
    {
     "name": "stdout",
     "output_type": "stream",
     "text": [
      "RMSE: 15\n",
      "r2: 0.5632\n"
     ]
    }
   ],
   "source": [
    "X=pd.get_dummies(df3[predictors],drop_first=True)\n",
    "\n",
    "fitted = lr.predict(X)\n",
    "\n",
    "RMSE = np.sqrt(mean_squared_error(df3['TotalCart'], fitted))\n",
    "\n",
    "r2 = r2_score(df3['TotalCart'], fitted)\n",
    "\n",
    "print(f'RMSE: {RMSE:.0f}')\n",
    "print(f'r2: {r2:.4f}')"
   ]
  },
  {
   "cell_type": "markdown",
   "id": "4f74ac23",
   "metadata": {},
   "source": [
    "#### Combinaison des 3 datasets"
   ]
  },
  {
   "cell_type": "code",
   "execution_count": 26,
   "id": "bdde52bd",
   "metadata": {},
   "outputs": [
    {
     "data": {
      "text/html": [
       "<div>\n",
       "<style scoped>\n",
       "    .dataframe tbody tr th:only-of-type {\n",
       "        vertical-align: middle;\n",
       "    }\n",
       "\n",
       "    .dataframe tbody tr th {\n",
       "        vertical-align: top;\n",
       "    }\n",
       "\n",
       "    .dataframe thead th {\n",
       "        text-align: right;\n",
       "    }\n",
       "</style>\n",
       "<table border=\"1\" class=\"dataframe\">\n",
       "  <thead>\n",
       "    <tr style=\"text-align: right;\">\n",
       "      <th></th>\n",
       "      <th>index</th>\n",
       "      <th>Age</th>\n",
       "      <th>Seniority</th>\n",
       "      <th>Orders</th>\n",
       "      <th>Items</th>\n",
       "      <th>AverageDiscount</th>\n",
       "      <th>TopCategory</th>\n",
       "      <th>BrowsingTime</th>\n",
       "      <th>EmailsOpened</th>\n",
       "      <th>SupportInteractions</th>\n",
       "      <th>TotalCart</th>\n",
       "    </tr>\n",
       "  </thead>\n",
       "  <tbody>\n",
       "    <tr>\n",
       "      <th>2995</th>\n",
       "      <td>995</td>\n",
       "      <td>28</td>\n",
       "      <td>2</td>\n",
       "      <td>1</td>\n",
       "      <td>2</td>\n",
       "      <td>0.38</td>\n",
       "      <td>Clothing,Shoes &amp; Jewelry</td>\n",
       "      <td>202.370990</td>\n",
       "      <td>1</td>\n",
       "      <td>3</td>\n",
       "      <td>36.73</td>\n",
       "    </tr>\n",
       "    <tr>\n",
       "      <th>2996</th>\n",
       "      <td>996</td>\n",
       "      <td>29</td>\n",
       "      <td>1</td>\n",
       "      <td>3</td>\n",
       "      <td>5</td>\n",
       "      <td>0.48</td>\n",
       "      <td>Clothing,Shoes &amp; Jewelry</td>\n",
       "      <td>552.845632</td>\n",
       "      <td>0</td>\n",
       "      <td>2</td>\n",
       "      <td>95.77</td>\n",
       "    </tr>\n",
       "    <tr>\n",
       "      <th>2997</th>\n",
       "      <td>997</td>\n",
       "      <td>35</td>\n",
       "      <td>0</td>\n",
       "      <td>4</td>\n",
       "      <td>3</td>\n",
       "      <td>0.53</td>\n",
       "      <td>Clothing,Shoes &amp; Jewelry</td>\n",
       "      <td>61.824173</td>\n",
       "      <td>2</td>\n",
       "      <td>0</td>\n",
       "      <td>30.47</td>\n",
       "    </tr>\n",
       "    <tr>\n",
       "      <th>2998</th>\n",
       "      <td>998</td>\n",
       "      <td>25</td>\n",
       "      <td>3</td>\n",
       "      <td>4</td>\n",
       "      <td>3</td>\n",
       "      <td>0.78</td>\n",
       "      <td>Sports &amp; outdoors</td>\n",
       "      <td>31.961986</td>\n",
       "      <td>0</td>\n",
       "      <td>1</td>\n",
       "      <td>17.26</td>\n",
       "    </tr>\n",
       "    <tr>\n",
       "      <th>2999</th>\n",
       "      <td>999</td>\n",
       "      <td>27</td>\n",
       "      <td>0</td>\n",
       "      <td>0</td>\n",
       "      <td>4</td>\n",
       "      <td>0.24</td>\n",
       "      <td>Electronics</td>\n",
       "      <td>152.540018</td>\n",
       "      <td>1</td>\n",
       "      <td>1</td>\n",
       "      <td>0.00</td>\n",
       "    </tr>\n",
       "  </tbody>\n",
       "</table>\n",
       "</div>"
      ],
      "text/plain": [
       "      index  Age  Seniority  Orders  Items  AverageDiscount  \\\n",
       "2995    995   28          2       1      2             0.38   \n",
       "2996    996   29          1       3      5             0.48   \n",
       "2997    997   35          0       4      3             0.53   \n",
       "2998    998   25          3       4      3             0.78   \n",
       "2999    999   27          0       0      4             0.24   \n",
       "\n",
       "                   TopCategory  BrowsingTime  EmailsOpened  \\\n",
       "2995  Clothing,Shoes & Jewelry    202.370990             1   \n",
       "2996  Clothing,Shoes & Jewelry    552.845632             0   \n",
       "2997  Clothing,Shoes & Jewelry     61.824173             2   \n",
       "2998         Sports & outdoors     31.961986             0   \n",
       "2999               Electronics    152.540018             1   \n",
       "\n",
       "      SupportInteractions  TotalCart  \n",
       "2995                    3      36.73  \n",
       "2996                    2      95.77  \n",
       "2997                    0      30.47  \n",
       "2998                    1      17.26  \n",
       "2999                    1       0.00  "
      ]
     },
     "execution_count": 26,
     "metadata": {},
     "output_type": "execute_result"
    }
   ],
   "source": [
    "combined_df = pd.concat([df1, df2, df3]).reset_index()\n",
    "combined_df.tail()"
   ]
  },
  {
   "cell_type": "code",
   "execution_count": 27,
   "id": "b8257cb3",
   "metadata": {},
   "outputs": [
    {
     "name": "stdout",
     "output_type": "stream",
     "text": [
      "RMSE: 12\n",
      "r2: 0.5632\n"
     ]
    }
   ],
   "source": [
    "X=pd.get_dummies(combined_df[predictors],drop_first=True)\n",
    "\n",
    "fitted = lr.predict(X)\n",
    "\n",
    "rmse_lr_tot = np.sqrt(mean_squared_error(combined_df['TotalCart'], fitted))\n",
    "\n",
    "r2_lr_tot = r2_score(combined_df['TotalCart'], fitted)\n",
    "\n",
    "print(f'RMSE: {rmse_lr_tot:.0f}')\n",
    "print(f'r2: {r2:.4f}')"
   ]
  },
  {
   "cell_type": "markdown",
   "id": "c3240477",
   "metadata": {},
   "source": [
    "### Modèle 2: Random Forest Regression"
   ]
  },
  {
   "cell_type": "markdown",
   "id": "959e74f1",
   "metadata": {},
   "source": [
    "Nous allons entraîner notre modèle de Random Forest Regression sur l'ensemble des données disponibles de la period_0."
   ]
  },
  {
   "cell_type": "code",
   "execution_count": 28,
   "id": "13f6ce72",
   "metadata": {},
   "outputs": [
    {
     "data": {
      "text/plain": [
       "RandomForestRegressor(max_depth=20, max_features='sqrt', n_estimators=50)"
      ]
     },
     "execution_count": 28,
     "metadata": {},
     "output_type": "execute_result"
    }
   ],
   "source": [
    "X_train=pd.get_dummies(df0[predictors],drop_first=True)\n",
    "y_train=df0['TotalCart']\n",
    "rf_model.fit(X_train, y_train)"
   ]
  },
  {
   "cell_type": "markdown",
   "id": "3247a4c8",
   "metadata": {},
   "source": [
    "#### period_1"
   ]
  },
  {
   "cell_type": "code",
   "execution_count": 29,
   "id": "bb1c223d",
   "metadata": {},
   "outputs": [
    {
     "name": "stdout",
     "output_type": "stream",
     "text": [
      "RMSE: 9.262671966254858\n",
      "R2: 0.757067758452602\n"
     ]
    }
   ],
   "source": [
    "X_test=pd.get_dummies(df1[predictors],drop_first=True)\n",
    "\n",
    "y_test=df1['TotalCart']\n",
    "\n",
    "y_pred_RF_1 = rf_model.predict(X_test)\n",
    "\n",
    "# Calculer les métriques de performance\n",
    "rmse = mean_squared_error(y_test, y_pred_RF_1, squared=False)\n",
    "r2 = r2_score(y_test, y_pred_RF_1)\n",
    "\n",
    "print(\"RMSE:\", rmse)\n",
    "print(\"R2:\", r2)"
   ]
  },
  {
   "cell_type": "markdown",
   "id": "abd95dd4",
   "metadata": {},
   "source": [
    "#### period_2"
   ]
  },
  {
   "cell_type": "code",
   "execution_count": 30,
   "id": "95c031a5",
   "metadata": {},
   "outputs": [
    {
     "name": "stdout",
     "output_type": "stream",
     "text": [
      "RMSE: 10.253613429958717\n",
      "R2: 0.7253380104415299\n"
     ]
    }
   ],
   "source": [
    "X_test=pd.get_dummies(df2[predictors],drop_first=True)\n",
    "\n",
    "y_test=df2['TotalCart']\n",
    "\n",
    "y_pred_RF_2 = rf_model.predict(X_test)\n",
    "\n",
    "# Calculer les métriques de performance\n",
    "rmse = mean_squared_error(y_test, y_pred_RF_2, squared=False)\n",
    "r2 = r2_score(y_test, y_pred_RF_2)\n",
    "\n",
    "print(\"RMSE:\", rmse)\n",
    "print(\"R2:\", r2)"
   ]
  },
  {
   "cell_type": "markdown",
   "id": "27fd7914",
   "metadata": {},
   "source": [
    "#### period_3"
   ]
  },
  {
   "cell_type": "code",
   "execution_count": 31,
   "id": "7bd3d2a2",
   "metadata": {},
   "outputs": [
    {
     "name": "stdout",
     "output_type": "stream",
     "text": [
      "RMSE: 14.83959400298327\n",
      "R2: 0.5973236548658827\n"
     ]
    }
   ],
   "source": [
    "X_test=pd.get_dummies(df3[predictors],drop_first=True)\n",
    "\n",
    "y_test=df3['TotalCart']\n",
    "\n",
    "y_pred_RF_3 = rf_model.predict(X_test)\n",
    "\n",
    "# Calculer les métriques de performance\n",
    "rmse = mean_squared_error(y_test, y_pred_RF_3, squared=False)\n",
    "r2 = r2_score(y_test, y_pred_RF_3)\n",
    "\n",
    "print(\"RMSE:\", rmse)\n",
    "print(\"R2:\", r2)"
   ]
  },
  {
   "cell_type": "markdown",
   "id": "0b4eafa7",
   "metadata": {},
   "source": [
    "#### Combinaison des 3 datasets"
   ]
  },
  {
   "cell_type": "code",
   "execution_count": 32,
   "id": "dbf646aa",
   "metadata": {},
   "outputs": [
    {
     "name": "stdout",
     "output_type": "stream",
     "text": [
      "RMSE: 11.706796181404634\n",
      "R2: 0.6814203188225284\n"
     ]
    }
   ],
   "source": [
    "X_test=pd.get_dummies(combined_df[predictors],drop_first=True)\n",
    "\n",
    "y_test=combined_df['TotalCart']\n",
    "\n",
    "y_pred = rf_model.predict(X_test)\n",
    "\n",
    "# Calculer les métriques de performance\n",
    "rmse_rf_tot = mean_squared_error(y_test, y_pred, squared=False)\n",
    "r2_rf_tot = r2_score(y_test, y_pred)\n",
    "\n",
    "print(\"RMSE:\", rmse_rf_tot)\n",
    "print(\"R2:\", r2_rf_tot)"
   ]
  },
  {
   "cell_type": "markdown",
   "id": "5ff7ef7a",
   "metadata": {},
   "source": [
    "### Modèle 3: KNN Regression\n"
   ]
  },
  {
   "cell_type": "markdown",
   "id": "b999d29b",
   "metadata": {},
   "source": [
    "Nous allons entraîner notre modèle de KNN Regression sur l'ensemble des données disponibles de la period_0."
   ]
  },
  {
   "cell_type": "code",
   "execution_count": 33,
   "id": "1899ab2e",
   "metadata": {},
   "outputs": [
    {
     "data": {
      "text/plain": [
       "KNeighborsRegressor(p=1)"
      ]
     },
     "execution_count": 33,
     "metadata": {},
     "output_type": "execute_result"
    }
   ],
   "source": [
    "# les mêmes X_train et y_train\n",
    "\n",
    "knn.fit(X_train, y_train)"
   ]
  },
  {
   "cell_type": "markdown",
   "id": "caf2adcf",
   "metadata": {},
   "source": [
    "#### period_1"
   ]
  },
  {
   "cell_type": "code",
   "execution_count": 34,
   "id": "8b4cc760",
   "metadata": {},
   "outputs": [
    {
     "name": "stdout",
     "output_type": "stream",
     "text": [
      "RMSE: 12.718169869442695\n",
      "R2: 0.5420038448464247\n"
     ]
    }
   ],
   "source": [
    "X_test=pd.get_dummies(df1[predictors],drop_first=True)\n",
    "\n",
    "y_test=df1['TotalCart']\n",
    "\n",
    "y_pred = knn.predict(X_test)\n",
    "\n",
    "rmse = mean_squared_error(y_test, y_pred, squared=False)\n",
    "\n",
    "r2 = r2_score(y_test, y_pred)\n",
    "\n",
    "print(\"RMSE:\", rmse)\n",
    "print(\"R2:\", r2)"
   ]
  },
  {
   "cell_type": "markdown",
   "id": "f592b526",
   "metadata": {},
   "source": [
    "#### period_2"
   ]
  },
  {
   "cell_type": "code",
   "execution_count": 35,
   "id": "b41e4c5d",
   "metadata": {},
   "outputs": [
    {
     "name": "stdout",
     "output_type": "stream",
     "text": [
      "RMSE: 14.76713227434494\n",
      "R2: 0.43031207885738376\n"
     ]
    }
   ],
   "source": [
    "X_test=pd.get_dummies(df2[predictors],drop_first=True)\n",
    "\n",
    "y_test=df2['TotalCart']\n",
    "\n",
    "y_pred = knn.predict(X_test)\n",
    "\n",
    "rmse = mean_squared_error(y_test, y_pred, squared=False)\n",
    "\n",
    "r2 = r2_score(y_test, y_pred)\n",
    "\n",
    "print(\"RMSE:\", rmse)\n",
    "print(\"R2:\", r2)"
   ]
  },
  {
   "cell_type": "markdown",
   "id": "0f00c31e",
   "metadata": {},
   "source": [
    "#### period_3"
   ]
  },
  {
   "cell_type": "code",
   "execution_count": 36,
   "id": "6f4ee991",
   "metadata": {},
   "outputs": [
    {
     "name": "stdout",
     "output_type": "stream",
     "text": [
      "RMSE: 20.588687797331815\n",
      "R2: 0.2248791558428903\n"
     ]
    }
   ],
   "source": [
    "X_test=pd.get_dummies(df3[predictors],drop_first=True)\n",
    "\n",
    "y_test=df3['TotalCart']\n",
    "\n",
    "y_pred = knn.predict(X_test)\n",
    "\n",
    "rmse = mean_squared_error(y_test, y_pred, squared=False)\n",
    "\n",
    "r2 = r2_score(y_test, y_pred)\n",
    "\n",
    "print(\"RMSE:\", rmse)\n",
    "print(\"R2:\", r2)"
   ]
  },
  {
   "cell_type": "markdown",
   "id": "a899952b",
   "metadata": {},
   "source": [
    "#### Combinaison des 3 datasets"
   ]
  },
  {
   "cell_type": "code",
   "execution_count": 37,
   "id": "e187fc78",
   "metadata": {},
   "outputs": [
    {
     "name": "stdout",
     "output_type": "stream",
     "text": [
      "RMSE: 16.367794655481234\n",
      "R2: 0.3772377276485952\n"
     ]
    }
   ],
   "source": [
    "X_test=pd.get_dummies(combined_df[predictors],drop_first=True)\n",
    "\n",
    "y_test=combined_df['TotalCart']\n",
    "\n",
    "y_pred = knn.predict(X_test)\n",
    "\n",
    "rmse_knn_tot = mean_squared_error(y_test, y_pred, squared=False)\n",
    "\n",
    "r2_knn_tot = r2_score(y_test, y_pred)\n",
    "\n",
    "print(\"RMSE:\", rmse_knn_tot)\n",
    "print(\"R2:\", r2_knn_tot)"
   ]
  },
  {
   "cell_type": "markdown",
   "id": "fe0483b6",
   "metadata": {},
   "source": [
    "## Evaluation des Modèles:\n",
    "\n",
    "Tout d'abord, il est important de souligner que les trois modèles ont un point commun : leurs résultats se détériorent au fil du temps. En effet, le coefficient de détermination (r2) diminue tandis que la racine carrée de l'erreur quadratique moyenne (RMSE) augmente à mesure que l'on avance dans le temps. \n",
    "\n",
    "Plus précisément, si l'on voit les résultats de la période 1 on constate que ses résultats sont les meilleurs pour les 3 modèles qu'on a utilisé. Toutefois, les résultats de la période 2 sont moins bons que ceux de la période 1 et les résultats de la période 3 sont encore moins satisfaisants. Ces observations montrent que les modèles entraînés sur la période 0 deviennent de moins en moins utiles à mesure que le temps avance, jusqu'à devenir presque inutiles.\n",
    "\n",
    "Et c'est claire que le meilleur modèle dans notre études est la  Random Forest Regression, le deuxiéme est la Linear Regression et à la fin on a la Regression KNN qui est presque inutile avec un R2 totale de 0.37 et RMSE de 16.36. \n",
    "\n",
    "On peut voir les résultats d'une manière plus claire:"
   ]
  },
  {
   "cell_type": "code",
   "execution_count": 38,
   "id": "4fc2ba0a",
   "metadata": {},
   "outputs": [
    {
     "data": {
      "image/png": "[encoded data removed]",
      "text/plain": [
       "<Figure size 1000x500 with 2 Axes>"
      ]
     },
     "metadata": {},
     "output_type": "display_data"
    }
   ],
   "source": [
    "r2_values = [r2_lr_tot,r2_rf_tot,r2_knn_tot]\n",
    "rmse_values = [rmse_lr_tot,rmse_rf_tot,rmse_knn_tot]\n",
    "models = ['Linear Regression', 'Random Forest','KNN']\n",
    "data = pd.DataFrame({'Model': models, 'r2 Score': r2_values, 'RMSE': rmse_values})\n",
    "sns.set_style('whitegrid')\n",
    "fig, (ax1, ax2) = plt.subplots(ncols=2, figsize=(10, 5))\n",
    "sns.barplot(x='Model', y='r2 Score', data=data, ax=ax1, palette='Blues')\n",
    "ax1.set_xlabel('')\n",
    "ax1.set_ylabel('r2 Score')\n",
    "ax1.set_title('Comparison of r2 Scores for Different Models')\n",
    "sns.barplot(x='Model', y='RMSE', data=data, ax=ax2, palette='Oranges')\n",
    "ax2.set_xlabel('')\n",
    "ax2.set_ylabel('RMSE')\n",
    "ax2.set_title('Comparison of RMSE for Different Models')\n",
    "plt.tight_layout()\n",
    "plt.show()"
   ]
  },
  {
   "cell_type": "markdown",
   "id": "99459d15",
   "metadata": {},
   "source": [
    "# Mesure de la dérive de variables catégorielles.\n",
    "\n",
    "Pour deux distributions de probabilités discrètes $P$ et $Q$, la **divergence de Kullback–Leibler** de $P$ par rapport à $Q$ est définie par:\n",
    "\n",
    "$$D_\\text{KL}(P \\parallel Q) = \\sum_{x\\in\\mathcal{X}} P(x) \\log\\left(\\frac{P(x)}{Q(x)}\\right)$$\n",
    "\n",
    "\n",
    "On définit la **divergence de Jensen-Shannon** comme une version lisse et symétrique de la divergence de Kullback-Leiber donnée par la formule suivante:\n",
    "\n",
    "$${\\rm JSD}(P \\parallel Q)= \\frac{1}{2}D(P \\parallel M)+\\frac{1}{2}D(Q \\parallel M)$$\n",
    "\n",
    "où $M=\\frac{1}{2}(P+Q)$\n",
    "\n",
    "### Exemple de calcul de $D_\\text{KL}(P \\parallel Q)$ : \n",
    "\n",
    "Soient $P$ =`[0.2, 0.3, 0.5]` et $Q$ =`[0.2, 0.4, 0.4]` deux vecteurs définissant une loi de probabilité discrete. Alors : \n",
    "\n",
    "$$\n",
    "\\begin{equation}\n",
    "\\begin{split}\n",
    "D_\\text{KL}(P \\parallel Q) & = P(0) \\log\\left(\\frac{P(0)}{Q(0)}\\right)\n",
    "                             + P(1) \\log\\left(\\frac{P(1)}{Q(1)}\\right)\n",
    "                             + P(2) \\log\\left(\\frac{P(2)}{Q(2)}\\right)\\\\ \\\\\n",
    "                           & = 0.2 \\log\\left(\\frac{0.2}{0.2}\\right)\n",
    "                             + 0.3 \\log\\left(\\frac{0.3}{0.4}\\right)\n",
    "                             + 0.5 \\log\\left(\\frac{0.5}{0.4}\\right) \\\\ \\\\\n",
    "                           & = 0.02526...\n",
    "\\end{split}\n",
    "\\end{equation}\n",
    "$$\n",
    "\n",
    "### Exercice\n",
    "\n",
    "* Implémenter des fonctions nommées **`KLDivergence(P, Q)`** et **`JSDivergence(P, Q)`** permettant de calculer les métriques définies ci-dessus.\n",
    "\n",
    "**Conseils**:\n",
    "* Utiliser la librairie Numpy permettant de facilement effectuer des calculs d'algèbre linéaire."
   ]
  },
  {
   "cell_type": "code",
   "execution_count": 39,
   "id": "35e51cb9",
   "metadata": {},
   "outputs": [],
   "source": [
    "#Cette ligne de code utilise le module warnings de Python pour ignorer les avertissements de catégorie DeprecationWarning\n",
    "import warnings\n",
    "warnings.filterwarnings('ignore')"
   ]
  },
  {
   "cell_type": "code",
   "execution_count": 40,
   "id": "0993e50e",
   "metadata": {},
   "outputs": [],
   "source": [
    "P = np.array([0.2, 0.3, 0.5])\n",
    "Q = np.array([0.2, 0.4, 0.4])\n",
    "\n",
    "def KLDivergence(P, Q):\n",
    "    # S'assurer que les entrées sont des NumPy 1D array comme tout notre calcule est implémenté dans numpy\n",
    "    P = np.asarray(P, dtype=np.float)\n",
    "    Q = np.asarray(Q, dtype=np.float)\n",
    "    \n",
    "    # Vérification que les deux tableaux ont la même taille\n",
    "    if P.shape != Q.shape:\n",
    "        raise ValueError('Les tableaux doivent être de même taille.')\n",
    "    e=0.00000000000000000000000000000000000000001    \n",
    "    # Calcule de la divergence de Kullback-Leibler\n",
    "    kl_div = np.sum(P * np.log((P+e) / (Q+e)))  # + e juste pour éviter les erreurs log(0) ou diviser par 0 \n",
    "                                                # sans ça on aura des valeur manquntes pour certaines variables comme Seniority       \n",
    "    return kl_div\n",
    "\n",
    "def JSDivergence(P, Q):\n",
    "    # Calculer M\n",
    "    M = 0.5 * (P + Q)\n",
    "    \n",
    "    # Calcule de la divergence de Kullback-Leibler pour chaque distribution par rapport à M\n",
    "    kl_PM = KLDivergence(P, M)\n",
    "    kl_QM = KLDivergence(Q, M)\n",
    "    \n",
    "    # Calcule de la distance de Jensen-Shannon\n",
    "    js_div = 0.5 * (kl_PM + kl_QM)\n",
    "    \n",
    "    return js_div\n"
   ]
  },
  {
   "cell_type": "markdown",
   "id": "b288b04e",
   "metadata": {},
   "source": [
    "* Lancer la cellule suivante pour tester votre fonction."
   ]
  },
  {
   "cell_type": "code",
   "execution_count": 41,
   "id": "4f5a4969",
   "metadata": {},
   "outputs": [
    {
     "name": "stdout",
     "output_type": "stream",
     "text": [
      "K-L Divergence: 0.02526715392157057\n",
      "J-S Divergence: 0.006367198333995731\n"
     ]
    }
   ],
   "source": [
    "print(\"K-L Divergence:\", KLDivergence(P, Q))\n",
    "print(\"J-S Divergence:\", JSDivergence(P, Q))"
   ]
  },
  {
   "cell_type": "markdown",
   "id": "675968bf",
   "metadata": {},
   "source": [
    "# Mesure de la dérive de variables quantitatives.\n",
    "\n",
    "Soit $P$ une mesure empirique d'échantillons $X_1, \\ldots, X_n\n",
    "$ et $Q$ une mesure empirique d'échantillons $Y_1, \\ldots, Y_n$, on définit la **Distance de Wasserstein** d'ordre $p$ par la fonction suivante :\n",
    "\n",
    "$$W_p(P, Q) = \\left( \\frac{1}{n}\\sum_{i=1}^n \\|X_{(i)} - Y_{(i)}\\|^p \\right)^{1/p}$$\n",
    "\n",
    "où $X_{(1)}, \\ldots, X_{(n)}$ et $Y_{(1)}, \\ldots, Y_{(n)}$ sont les [**statistiques d'ordre**](https://en.wikipedia.org/wiki/Order_statistic#Notation_and_examples) des échantillons $X$ et $Y$ et $p$ un nombre entier positif.\n",
    "\n",
    "### Exercice\n",
    "\n",
    "* Implémenter une fonction nommée **`WassersteinDistance(X, Y, p)`** permettant de calculer cette métrique à l'ordre **`p`** à partir de **deux échantillons** **`X`** et **`Y`** que l'on supposera de même longueur.\n",
    "\n",
    "**Conseils**:\n",
    "* Vous pouvez trier les échantillons pour obtenir les statistiques d'ordre."
   ]
  },
  {
   "cell_type": "code",
   "execution_count": 42,
   "id": "107f656a",
   "metadata": {},
   "outputs": [],
   "source": [
    "def WassersteinDistance(X, Y, p):\n",
    "    # S'assurer que les entrées sont des NumPy 1D array comme tout notre calcule est implémenté dans numpy\n",
    "    X = np.asarray(X, dtype=np.float)\n",
    "    Y = np.asarray(Y, dtype=np.float)\n",
    "    \n",
    "    # Vérification que les deux tableaux ont la même taille\n",
    "    if X.shape != Y.shape:\n",
    "        raise ValueError('Les tableaux doivent être de même taille.')\n",
    "    \n",
    "    # Trier les tableaux en ordre croissant\n",
    "    X_sort = np.sort(X)\n",
    "    Y_sort = np.sort(Y)\n",
    "    \n",
    "    # Calculer la distance de Wasserstein\n",
    "    wasserstein_dist = np.power(np.sum(np.power(np.abs(X_sort - Y_sort), p)) / X.shape[0], 1/p)\n",
    "    \n",
    "    return wasserstein_dist\n"
   ]
  },
  {
   "cell_type": "markdown",
   "id": "fd06da66",
   "metadata": {},
   "source": [
    "* Lancer la cellule suivante pour tester votre fonction."
   ]
  },
  {
   "cell_type": "code",
   "execution_count": 43,
   "id": "11d0e0a5",
   "metadata": {},
   "outputs": [
    {
     "data": {
      "text/plain": [
       "0.10249882924696585"
      ]
     },
     "execution_count": 43,
     "metadata": {},
     "output_type": "execute_result"
    }
   ],
   "source": [
    "X = np.random.beta(2, 6, 100)\n",
    "\n",
    "Y = np.random.beta(3, 6, 100)\n",
    "\n",
    "WassersteinDistance(X, Y, 2)"
   ]
  },
  {
   "cell_type": "code",
   "execution_count": 44,
   "id": "041421f9",
   "metadata": {},
   "outputs": [
    {
     "data": {
      "text/plain": [
       "0.048278740423290924"
      ]
     },
     "execution_count": 44,
     "metadata": {},
     "output_type": "execute_result"
    }
   ],
   "source": [
    "a=np.array([1,2,3,4])\n",
    "b=np.array([29,39,49,59])\n",
    "\n",
    "a=a/sum(a)\n",
    "b=b/sum(b)\n",
    "\n",
    "WassersteinDistance(a,b,2)"
   ]
  },
  {
   "cell_type": "markdown",
   "id": "12dbe4fc",
   "metadata": {},
   "source": [
    "# Étude de la dérive du modèle.\n",
    "\n",
    "* En vous appuyant sur les métriques définies précédemment, illustrez et analysez visuellement la **dérive des données** ainsi que **la dérive du modèle** sur les périodes **1 à 3**. \n",
    "\n",
    "\n",
    "* Commenter les visualisations et déterminer si le modèle doit être mis à jour ou si sa performance est toujours acceptable. \n",
    "\n",
    "**Conseils**:\n",
    "* Vous serez évalué sur **la rigueur et le soin** que vous donnerez à votre analyse, et sur **vos capacités à synthéthiser votre étude**. Vous ne serez pas évalué sur vos conclusions.\n",
    "\n",
    "\n",
    "* Vous pouvez normaliser les données par rapport aux **moyennes et variances que vous calculerez sur la période 0** pour que les distances de Wasserstein pour différentes variables soient facilement comparables."
   ]
  },
  {
   "cell_type": "markdown",
   "id": "7cacf348",
   "metadata": {},
   "source": [
    "### Fonction de Calcule:\n",
    "\n",
    "Dans cette partie de test, nous avons créé une fonction qui facilite le calcul des distances de dérive entre les variables de différents ensembles de données tout en normalisant le travail. En effet, ces distances nécessitent la normalisation des variables, comme expliqué dans le notebook."
   ]
  },
  {
   "cell_type": "code",
   "execution_count": 45,
   "id": "4f8a1f5f",
   "metadata": {},
   "outputs": [],
   "source": [
    "# Fonction pour normaliser un variable avec numpy\n",
    "def numpy_norm_dist(var):\n",
    "    return var/sum(var)\n",
    "\n",
    "\n",
    "def numpy_norm_cont(var):\n",
    "    return (var-np.mean(var))/np.std(var)\n",
    "    \n",
    "# Fonction pour calculer les distances entre les variables dans différents ensembles de données\n",
    "def cal_derive_var(X,p=2):\n",
    "    # Extraire la variable X de chaque ensemble de données\n",
    "    dist0=df0[X].to_numpy()\n",
    "    dist1=df1[X].to_numpy()\n",
    "    dist2=df2[X].to_numpy()\n",
    "    dist3=df3[X].to_numpy()\n",
    "\n",
    "\n",
    "    # Calculer la distance entre les variables avec la méthode appropriée en fonction de leur type\n",
    "    if df0[X].dtype=='int64':\n",
    "        # on normalise les variable pour qu'elle deviennent des vecteurs définissant une loi de probabilité discrete\n",
    "        dist0=numpy_norm_dist(dist0)\n",
    "        dist1=numpy_norm_dist(dist1)\n",
    "        dist2=numpy_norm_dist(dist2)\n",
    "        dist3=numpy_norm_dist(dist3)\n",
    "        \n",
    "        dev01=JSDivergence(dist0,dist1)\n",
    "        dev02=JSDivergence(dist0,dist2)\n",
    "        dev03=JSDivergence(dist0,dist3)\n",
    "        dev12=JSDivergence(dist1,dist2)\n",
    "        dev13=JSDivergence(dist1,dist3)\n",
    "        dev23=JSDivergence(dist2,dist3)\n",
    "        d=pd.DataFrame({'dev01': dev01, 'dev02': dev02, 'dev03': dev03,\n",
    "                        'dev12': dev12, 'dev13': dev13, 'dev23': dev23},index=['JSDivergence'])\n",
    "    \n",
    "    else:\n",
    "        # on pouvez normalise les données par rapport aux moyennes et variances\n",
    "        # pour que les distances de Wasserstein pour différentes variables soient facilement comparables.\n",
    "        dist0=numpy_norm_cont(dist0)\n",
    "        dist1=numpy_norm_cont(dist1)\n",
    "        dist2=numpy_norm_cont(dist2)\n",
    "        dist3=numpy_norm_cont(dist3)\n",
    "\n",
    "        dev01=WassersteinDistance(dist0,dist1,p)\n",
    "        dev02=WassersteinDistance(dist0,dist2,p)\n",
    "        dev03=WassersteinDistance(dist0,dist3,p)\n",
    "        dev12=WassersteinDistance(dist1,dist2,p)\n",
    "        dev13=WassersteinDistance(dist1,dist3,p)\n",
    "        dev23=WassersteinDistance(dist2,dist3,p)\n",
    "        d=pd.DataFrame({'dev01': dev01, 'dev02': dev02, 'dev03': dev03,\n",
    "                        'dev12': dev12, 'dev13': dev13, 'dev23': dev23},index=['WassersteinDistance'])\n",
    "    \n",
    "    return d\n"
   ]
  },
  {
   "cell_type": "code",
   "execution_count": 46,
   "id": "92f9b961",
   "metadata": {},
   "outputs": [
    {
     "name": "stdout",
     "output_type": "stream",
     "text": [
      "\n",
      "Age:\n",
      "                 dev01     dev02     dev03     dev12     dev13     dev23\n",
      "JSDivergence  0.011193  0.010768  0.010979  0.011214  0.010421  0.010209\n",
      "\n",
      "\n",
      "Seniority:\n",
      "                dev01     dev02     dev03     dev12     dev13     dev23\n",
      "JSDivergence  0.40157  0.382949  0.363432  0.331194  0.319033  0.298862\n",
      "\n",
      "\n",
      "Orders:\n",
      "                 dev01     dev02     dev03     dev12     dev13     dev23\n",
      "JSDivergence  0.103172  0.109149  0.131758  0.108718  0.124703  0.127584\n",
      "\n",
      "\n",
      "Items:\n",
      "                 dev01     dev02     dev03     dev12     dev13     dev23\n",
      "JSDivergence  0.049591  0.046362  0.049151  0.055816  0.055998  0.055896\n",
      "\n",
      "\n",
      "AverageDiscount:\n",
      "                        dev01     dev02     dev03     dev12     dev13  \\\n",
      "WassersteinDistance  0.040114  0.043975  0.047264  0.061734  0.052525   \n",
      "\n",
      "                        dev23  \n",
      "WassersteinDistance  0.036804  \n",
      "\n",
      "\n",
      "BrowsingTime:\n",
      "                        dev01     dev02     dev03     dev12     dev13  \\\n",
      "WassersteinDistance  0.065174  0.111788  0.140394  0.072895  0.166983   \n",
      "\n",
      "                        dev23  \n",
      "WassersteinDistance  0.171238  \n",
      "\n",
      "\n",
      "EmailsOpened:\n",
      "                 dev01     dev02     dev03     dev12     dev13     dev23\n",
      "JSDivergence  0.296089  0.278428  0.290437  0.287743  0.297056  0.288578\n",
      "\n",
      "\n",
      "SupportInteractions:\n",
      "               dev01     dev02     dev03     dev12     dev13     dev23\n",
      "JSDivergence  0.2823  0.289737  0.275812  0.298879  0.295328  0.279437\n",
      "\n",
      "\n",
      "TotalCart:\n",
      "                       dev01     dev02     dev03     dev12     dev13     dev23\n",
      "WassersteinDistance  0.12903  0.174509  0.272922  0.087385  0.194341  0.187067\n",
      "\n"
     ]
    }
   ],
   "source": [
    "# juste s'assurer que nos methodes de calcule des distances marche avec toutes les variables.\n",
    "for i in df0.columns:\n",
    "    if df0[i].dtype!='O':\n",
    "        print(f\"\\n{i}:\\n{cal_derive_var(i)}\\n\")        "
   ]
  },
  {
   "cell_type": "markdown",
   "id": "fb57d01c",
   "metadata": {},
   "source": [
    "### La dérive des données:"
   ]
  },
  {
   "cell_type": "markdown",
   "id": "b52a962c",
   "metadata": {},
   "source": [
    "Nous allons diviser notre analyse des distances en trois catégories : les variables discrètes, les variables continues et les Variables Catégorielles. En effet, la distance de Wasserstein est adaptée pour les variables continues, tandis que la divergence de Jensen-Shannon est adaptée pour les variables discrètes. Il est important de prendre en compte cette différence car les deux distances ne sont pas directement comparables entre elles."
   ]
  },
  {
   "cell_type": "markdown",
   "id": "58cb8cd1",
   "metadata": {},
   "source": [
    "#### 1. les Variables Discrètes:"
   ]
  },
  {
   "cell_type": "code",
   "execution_count": 63,
   "id": "29265b29",
   "metadata": {},
   "outputs": [
    {
     "data": {
      "image/png": "[encoded data removed]",
      "text/plain": [
       "<Figure size 1200x600 with 1 Axes>"
      ]
     },
     "metadata": {},
     "output_type": "display_data"
    }
   ],
   "source": [
    "# Créer une liste des dataframes et de leurs étiquettes correspondantes\n",
    "dfs = [df0, df1, df2, df3]\n",
    "labels = ['df0', 'df1', 'df2', 'df3']\n",
    "\n",
    "# Créer une matrice vide pour stocker les distances par paires\n",
    "n_dfs = len(dfs)\n",
    "dist_matrix = pd.DataFrame(index=labels, columns=labels)\n",
    "\n",
    "# Itérer sur toutes les paires de dataframes et calculer la distance\n",
    "for i in range(n_dfs):\n",
    "    for j in range(i+1, n_dfs):\n",
    "        # Calculer la distance entre les dataframes pour chaque variable\n",
    "        dists = []\n",
    "        for var in df0.columns:\n",
    "            if df0[var].dtype == 'int64':\n",
    "                dists.append(cal_derive_var(var, p=2)['dev{}{}'.format(i,j)].values[0])\n",
    "        # Stocker la distance moyenne entre les dataframes\n",
    "        dist_matrix.iloc[i,j] = np.mean(dists)\n",
    "        dist_matrix.iloc[j,i] = np.mean(dists)\n",
    "\n",
    "# Calculer la distance entre les dataframes pour chaque variable individuellement\n",
    "var_dists = pd.DataFrame(columns=['variable', 'JSDivergence'])\n",
    "for var in df0.columns:\n",
    "    if df0[var].dtype == 'int64':\n",
    "        dists = []\n",
    "        for i in range(n_dfs):\n",
    "            for j in range(i+1, n_dfs):\n",
    "                dists.append(cal_derive_var(var, p=2)['dev{}{}'.format(i,j)].values[0])\n",
    "        var_dists = var_dists.append({'variable': var, 'JSDivergence': np.mean(dists)}, ignore_index=True)\n",
    "\n",
    "# Classer les variables selon leur contribution à la distance totale\n",
    "var_dists = var_dists.sort_values('JSDivergence', ascending=False)\n",
    "\n",
    "# Créer une figure en barres pour visualiser les distances variables\n",
    "fig, ax = plt.subplots(figsize=(12, 6))\n",
    "ax.bar(var_dists['variable'], var_dists['JSDivergence'], color='lightblue')\n",
    "\n",
    "# Ajouter un titre et des étiquettes aux axes\n",
    "ax.set_title('La moyennes de la divergence de Jensen-Shannon des variables discrètes entre les dataframes')\n",
    "ax.set_xlabel('Variable')\n",
    "ax.set_ylabel('JSDivergence')\n",
    "\n",
    "# Faire pivoter les étiquettes des axes x pour les rendre plus lisibles\n",
    "plt.xticks(rotation=90)\n",
    "\n",
    "# Afficher la figure\n",
    "plt.show()\n"
   ]
  },
  {
   "cell_type": "markdown",
   "id": "5bd5195e",
   "metadata": {},
   "source": [
    "D'après les résultats obtenus  peuvent suggérer que les comportements et préférences des clients ont changé avec le temps.\n",
    "\n",
    "En termes de variables spécifiques, nous pouvons remarquer que la variable **`Seniority`** a la plus grande distance de divergence de Jensen-Shannon, ce qui signifie que la distribution des valeurs de cette variable diffère le plus entre les ensembles de données. Cela peut suggérer que la relation entre l'âge et la durée d'inscription des clients a évolué avec le temps.\n",
    "\n",
    "De même, les variables **`EmailsOpened`** et **`SupportInteractions`** ont également des distances de divergence de Jensen-Shannon relativement élevées, ce qui peut indiquer que l'engagement des clients avec les emails et le support a également changé avec le temps.\n",
    "\n",
    "En revanche, les variables **`Orders`** et **`Items`** ont des distances de divergence de Jensen-Shannon relativement faibles, ce qui suggère que la distribution des valeurs de ces variables est relativement similaire entre les ensembles de données. Cela peut indiquer une certaine stabilité dans le comportement des clients en termes de fréquence et de quantité d'achats.\n",
    "\n",
    "Il convient de noter que la variable **`Age`** a la plus faible distance de divergence de Jensen-Shannon, ce qui suggère que la distribution des âges des clients est relativement stable au fil du temps.\n",
    "\n",
    "En conclusion, les résultats de la divergence de Jensen-Shannon montrent des différences significatives entre les ensembles de données appartenant à différentes périodes de temps, en particulier en ce qui concerne les variables **`Seniority`**, **`EmailsOpened`** et **`SupportInteractions`**. Ces différences peuvent indiquer un changement dans les comportements et préférences des clients avec le temps."
   ]
  },
  {
   "cell_type": "code",
   "execution_count": 48,
   "id": "8e97e6e0",
   "metadata": {},
   "outputs": [
    {
     "data": {
      "text/plain": [
       "<AxesSubplot:>"
      ]
     },
     "execution_count": 48,
     "metadata": {},
     "output_type": "execute_result"
    },
    {
     "data": {
      "image/png": "[encoded data removed]",
      "text/plain": [
       "<Figure size 640x480 with 2 Axes>"
      ]
     },
     "metadata": {},
     "output_type": "display_data"
    }
   ],
   "source": [
    "# Visualiser la matrice de distance sous forme de carte de chaleur\n",
    "sns.heatmap(dist_matrix.astype(float), annot=True, cmap='coolwarm')"
   ]
  },
  {
   "cell_type": "markdown",
   "id": "f21580b3",
   "metadata": {},
   "source": [
    "Les résultats de la matrice de confusion montrent que les quatre ensembles de données sont différents les uns des autres avec une moyenne de <b>0,185</b> pour la divergence de Jensen-Shannon. Cette valeur représente la distance moyenne entre les distributions de probabilité des données. Plus la distance est élevée, plus les distributions sont différentes. Ainsi, une valeur moyenne de 0,185 indique que les ensembles de données présentent des différences significatives entre eux, mais qu'elles ne sont pas extrêmes. Cela peut indiquer que les ensembles de données ont des caractéristiques similaires, mais qu'il y a également des différences notables qui doivent être prises en compte lors de l'analyse."
   ]
  },
  {
   "cell_type": "markdown",
   "id": "5f222a97",
   "metadata": {},
   "source": [
    "#### 2. les Variables Continue:"
   ]
  },
  {
   "cell_type": "markdown",
   "id": "a887588c",
   "metadata": {},
   "source": [
    "<b> Pourquoi on a choisit la valeur 2 par défaut pour le paramètre p? </b>\n",
    "\n",
    "En général, pour des données de type continue, la distance de Wasserstein avec p=2 est couramment utilisée car elle prend en compte la distribution complète de la variable et permet de capturer les différences de forme et d'écart-type entre les distributions.\n",
    "\n"
   ]
  },
  {
   "cell_type": "code",
   "execution_count": 67,
   "id": "305981ed",
   "metadata": {},
   "outputs": [
    {
     "data": {
      "image/png": "[encoded data removed]",
      "text/plain": [
       "<Figure size 1200x600 with 1 Axes>"
      ]
     },
     "metadata": {},
     "output_type": "display_data"
    }
   ],
   "source": [
    "# Créer un DataFrame vide pour stocker les distances de Wasserstein\n",
    "var_dists = pd.DataFrame(columns=['variable', 'WassersteinDistance'])\n",
    "\n",
    "# Itérer sur chaque variable et calculer la distance de Wasserstein\n",
    "for var in df0.columns:\n",
    "    if df0[var].dtype == 'float64':\n",
    "        dists = []\n",
    "        for i in range(n_dfs):\n",
    "            for j in range(i+1, n_dfs):\n",
    "                dists.append(cal_derive_var(var, p=2)['dev{}{}'.format(i,j)].values[0])\n",
    "        var_dists = var_dists.append({'variable': var, 'WassersteinDistance': np.mean(dists)}, ignore_index=True)\n",
    "\n",
    "# Classer les variables selon leur contribution à la distance totale\n",
    "var_dists = var_dists.sort_values('WassersteinDistance', ascending=False)\n",
    "\n",
    "# Créer une figure en barres pour visualiser les distances variables\n",
    "plt.figure(figsize=(12,6))\n",
    "plt.bar(var_dists['variable'], var_dists['WassersteinDistance'], color='lightblue')\n",
    "plt.xticks(rotation=90)\n",
    "plt.xlabel('Variable')\n",
    "plt.ylabel('Distance de Wasserstein')\n",
    "plt.title('La moyennes de la Distance de Wasserstein des variables Continues entre les dataframes')\n",
    "plt.show()\n"
   ]
  },
  {
   "cell_type": "markdown",
   "id": "0905e809",
   "metadata": {},
   "source": [
    "Baser sur ces résultats, ayant des valeurs relativement petites pour la distance de Wasserstein (maximum de 0.17), on peut penser que les variables n'ont pas vraiment de différences significatives entre les dataframes. Cette hypothèse est renforcée par le fait que les valeurs de distance de Wasserstein sont très proches de zéro, indiquant qu'il n'y a pas de différences significatives entre les distributions de probabilité des données. Cela peut être dû à plusieurs facteurs, tels que l'échantillonnage aléatoire des données ou la similarité des distributions de probabilité entre les dataframes. Dans l'ensemble, il est peu probable que ces variables soient des facteurs clés pour expliquer les différences entre les dataframes."
   ]
  },
  {
   "cell_type": "code",
   "execution_count": 108,
   "id": "a19c717f",
   "metadata": {},
   "outputs": [
    {
     "data": {
      "image/png": "[encoded data removed]",
      "text/plain": [
       "<Figure size 800x600 with 1 Axes>"
      ]
     },
     "metadata": {},
     "output_type": "display_data"
    },
    {
     "data": {
      "image/png": "[encoded data removed]",
      "text/plain": [
       "<Figure size 800x600 with 1 Axes>"
      ]
     },
     "metadata": {},
     "output_type": "display_data"
    },
    {
     "data": {
      "image/png": "[encoded data removed]",
      "text/plain": [
       "<Figure size 800x600 with 1 Axes>"
      ]
     },
     "metadata": {},
     "output_type": "display_data"
    }
   ],
   "source": [
    "# Définir les couleurs pour chaque variable\n",
    "couleurs = {'AverageDiscount': 'dodgerblue', 'BrowsingTime': 'Skyblue', 'TotalCart': 'lightblue'}\n",
    "\n",
    "# Créer des boxplots pour chaque variable et les ajouter à la figure\n",
    "for var in ['AverageDiscount', 'BrowsingTime', 'TotalCart']:\n",
    "    fig, ax = plt.subplots(figsize=(8, 6))\n",
    "    box0 = ax.boxplot(df0[var], positions=[1], widths=0.6, patch_artist=True, boxprops=dict(facecolor=couleurs[var], color='black'), medianprops=dict(color='white'))\n",
    "    box1 = ax.boxplot(df1[var], positions=[2], widths=0.6, patch_artist=True, boxprops=dict(facecolor=couleurs[var], color='black'), medianprops=dict(color='white'))\n",
    "    box2 = ax.boxplot(df2[var], positions=[3], widths=0.6, patch_artist=True, boxprops=dict(facecolor=couleurs[var], color='black'), medianprops=dict(color='white'))\n",
    "    box3 = ax.boxplot(df3[var], positions=[4], widths=0.6, patch_artist=True, boxprops=dict(facecolor=couleurs[var], color='black'), medianprops=dict(color='white'))\n",
    "    \n",
    "    # Personnaliser la mise en page\n",
    "    ax.set_title(f'Comparaison de la variable Continue {var} entre les dataframes', fontsize=16)\n",
    "    ax.set_ylabel('Valeur', fontsize=14)\n",
    "    ax.set_xticks([1, 2, 3, 4])\n",
    "    ax.set_xticklabels(['df0_'+var, 'df1_'+var, 'df2_'+var, f'df3_{var}'], fontsize=12)\n",
    "    ax.tick_params(axis='both', which='major', labelsize=12)\n",
    "    ax.spines['right'].set_visible(False)\n",
    "    ax.spines['top'].set_visible(False)\n",
    "    \n",
    "    plt.show()\n"
   ]
  },
  {
   "cell_type": "markdown",
   "id": "2850ef9b",
   "metadata": {},
   "source": [
    "En comparant les résultats entre les quatre périodes, on a trouvé que les résultats de la distance de Wasserstein qu'on a eu sont logiques car les valeurs de ces variables continues ne varient pas beaucoup entre les 4 dataframes. Les différences se situent principalement au niveau des outliers, ce qui n'a pas vraiment d'importance car cela ne reflète pas la distribution des valeurs de ces variables. \n"
   ]
  },
  {
   "cell_type": "markdown",
   "id": "58ca236e",
   "metadata": {},
   "source": [
    "#### 3. les Variables Catégorielles:"
   ]
  },
  {
   "cell_type": "markdown",
   "id": "46015072",
   "metadata": {},
   "source": [
    "Dans cette partie, on va vérifier si la distribution de la variable catégorielle **`TopCategory`** est similaire sur les quatre périodes de temps. Pour cela, nous allons créer un diagramme en barres qui compare chaque valeur unique sur les quatre dataframes. Si nous constatons des changements significatifs dans la distribution de la variable, nous poursuivrons en effectuant une analyse de dérive."
   ]
  },
  {
   "cell_type": "code",
   "execution_count": 51,
   "id": "989d6ba9",
   "metadata": {},
   "outputs": [
    {
     "data": {
      "image/png": "[encoded data removed]",
      "text/plain": [
       "<Figure size 1200x800 with 1 Axes>"
      ]
     },
     "metadata": {},
     "output_type": "display_data"
    }
   ],
   "source": [
    "dfs = [df0, df1, df2, df3]  \n",
    "\n",
    "labels = sorted(df0['TopCategory'].unique())\n",
    "\n",
    "# Préparation des données pour les graphiques\n",
    "counts_list = []\n",
    "\n",
    "for df in dfs:\n",
    "    counts = df['TopCategory'].value_counts()\n",
    "    counts = counts.reindex(labels)\n",
    "    counts_list.append(counts)\n",
    "\n",
    "# Création des graphiques\n",
    "fig, ax = plt.subplots(figsize=(12, 8))\n",
    "\n",
    "colors = plt.rcParams['axes.prop_cycle'].by_key()['color']\n",
    "bar_width = 0.2\n",
    "for i, (counts) in enumerate(counts_list):\n",
    "    ax.bar(np.arange(len(counts)) + i*bar_width, counts, width=bar_width, color=colors[i], label=f'df{i}')\n",
    "    ax.set_xticks(np.arange(len(counts)) + (len(counts_list)-1)*bar_width/2)\n",
    "    ax.set_xticklabels(labels, rotation=90)\n",
    "    #ax.set_ylim([0, 1])\n",
    "    ax.grid(axis='y')\n",
    "    ax.legend()\n",
    "\n",
    "plt.tight_layout()\n",
    "plt.show()"
   ]
  },
  {
   "cell_type": "markdown",
   "id": "a7bdf799",
   "metadata": {},
   "source": [
    "L'analyse des résultats de ce graphique en barres montre des changements significatifs dans la distribution de chaque valeur unique entre les différentes périodes de temps. Par exemple, la <b>valeur Office Supplies </b> pour df1 est presque deux fois plus élevée que celle des autre dataframes. Il convient de noter que nous comparons approximativement les changements de hauteur entre le graphique en barres de chaque valeur unique suivant les dataframes. Ainsi, il y a des changements pour Beauty & Personal Care, mais ils ne sont pas aussi significatifs que ceux pour Office Supplies, car la différence est comparée à la taille de la même valeur unique dans les autres dataframes.\n",
    "\n"
   ]
  },
  {
   "cell_type": "markdown",
   "id": "d3bab970",
   "metadata": {},
   "source": [
    "Après avoir analysé ce graphique, nous avons constaté l'importance de calculer la dérive des valeurs de la variable **`TopCategory`**. Cependant, notre fonction de calcul ne prend pas en charge les variables catégoriques. Pour résoudre ce problème, nous avons apporté quelques modifications :\n",
    "\n",
    "1. Nous avons créé des dummies pour la variable **`TopCategory`** pour chaque dataframe et les avons nommées : <b>per0, per1, per2</b> et <b>per3</b>.\n",
    "\n",
    "\n",
    "2. Nous avons créé une nouvelle version de la fonction <b>cal_derive_var</b> qui résout notre problème en calculant la JSDivergence pour chaque valeur unique sur les 4 périodes de temps et l'avons appelée <b>cal_derive_var_cat</b>.\n",
    "\n",
    "\n",
    "3. Nous avons visualisé les résultats des calculs de dérive pour chaque valeur unique de la variable **`TopCategory`**."
   ]
  },
  {
   "cell_type": "code",
   "execution_count": 52,
   "id": "9bc2823f",
   "metadata": {},
   "outputs": [],
   "source": [
    "per0=pd.get_dummies(df0['TopCategory'])\n",
    "per1=pd.get_dummies(df1['TopCategory'])\n",
    "per2=pd.get_dummies(df2['TopCategory'])\n",
    "per3=pd.get_dummies(df3['TopCategory'])"
   ]
  },
  {
   "cell_type": "code",
   "execution_count": 53,
   "id": "988feaab",
   "metadata": {},
   "outputs": [],
   "source": [
    "# Fonction pour calculer les distances entre les variables dans différents ensembles de données\n",
    "def cal_derive_var_cat(X):\n",
    "    # Extraire la variable X de chaque ensemble de données\n",
    "    dist0=per0[X]\n",
    "    dist1=per1[X]\n",
    "    dist2=per2[X]\n",
    "    dist3=per3[X]\n",
    "    # on normalise la variable et la transforme d'une pandas series à un NumPy 1D array\n",
    "    dist0=numpy_norm_dist(dist0)\n",
    "    dist1=numpy_norm_dist(dist1)\n",
    "    dist2=numpy_norm_dist(dist2)\n",
    "    dist3=numpy_norm_dist(dist3)\n",
    "    \n",
    "    # Calculer la distance entre les variables avec la méthode appropriée en fonction de leur type\n",
    "        \n",
    "    dev01=JSDivergence(dist0,dist1)\n",
    "    dev02=JSDivergence(dist0,dist2)\n",
    "    dev03=JSDivergence(dist0,dist3)\n",
    "    dev12=JSDivergence(dist1,dist2)\n",
    "    dev13=JSDivergence(dist1,dist3)\n",
    "    dev23=JSDivergence(dist2,dist3)\n",
    "    d=pd.DataFrame({'dev01': dev01, 'dev02': dev02, 'dev03': dev03,\n",
    "                    'dev12': dev12, 'dev13': dev13, 'dev23': dev23},index=['JSDivergence'])\n",
    "  \n",
    "    return d"
   ]
  },
  {
   "cell_type": "code",
   "execution_count": 84,
   "id": "f3f981eb",
   "metadata": {},
   "outputs": [
    {
     "data": {
      "image/png": "[encoded data removed]",
      "text/plain": [
       "<Figure size 1200x800 with 1 Axes>"
      ]
     },
     "metadata": {},
     "output_type": "display_data"
    }
   ],
   "source": [
    "# Calculer la divergence de Jensen-Shannon pour chaque paire de dataframes\n",
    "var_dists = pd.DataFrame(columns=['variable', 'JSDivergence'])\n",
    "for var in per0.columns:\n",
    "    dists = []\n",
    "    for i in range(n_dfs):\n",
    "        for j in range(i+1, n_dfs):\n",
    "            dists.append(cal_derive_var_cat(var)['dev{}{}'.format(i,j)].values[0])\n",
    "    var_dists = var_dists.append({'variable': var, 'JSDivergence': np.mean(dists)}, ignore_index=True)\n",
    "\n",
    "# Classer les variables selon leur contribution à la distance totale\n",
    "var_dists = var_dists.sort_values('JSDivergence', ascending=False)\n",
    "\n",
    "# Créer un graphique en barres pour visualiser les distances variables\n",
    "fig, ax = plt.subplots(figsize=(12, 8))\n",
    "bars = ax.bar(var_dists['variable'], var_dists['JSDivergence'], color='lightblue')\n",
    "\n",
    "# Ajouter les valeurs sur les barres\n",
    "for bar in bars:\n",
    "    height = bar.get_height()\n",
    "    ax.annotate('{:.2f}'.format(height),\n",
    "                xy=(bar.get_x() + bar.get_width() / 2, height),\n",
    "                xytext=(0, 3),\n",
    "                textcoords=\"offset points\",\n",
    "                ha='center', va='bottom', fontsize=8)\n",
    "\n",
    "# Personnaliser la mise en page\n",
    "ax.set_title('La moyennes de la divergence de Jensen-Shannon de la variable TopCategory entre les dataframes')\n",
    "ax.set_xlabel('Variable')\n",
    "ax.set_ylabel('JSDivergence')\n",
    "ax.tick_params(axis='x', labelrotation=90)\n",
    "ax.grid(axis='x')\n",
    "\n",
    "plt.show()"
   ]
  },
  {
   "cell_type": "markdown",
   "id": "6383f5d3",
   "metadata": {},
   "source": [
    "Ces résultats représentent les dérives des différentes catégories de la variable **`TopCategory`** par rapport aux quatre ensembles de données mesurée par la distance de Jensen-Shannon (JSDivergence)\n",
    "\n",
    "On peut observer que les catégories \"Pet Supplies\" et \"Office Supplies\" ont la plus grande dérive (0.69), ce qui signifie que leur distribution de probabilité est la plus différente entre les ensembles de données. Les catégories \"Electronics\", \"Health, Household & Baby Care\" et \"Home & Kitchen\" ont également une dérive relativement élevée, tandis que les catégories \"Toys & Games\" et \"Clothing,Shoes & Jewelry\" ont la dérive la plus faible.\n",
    "\n",
    "Ces résultats suggèrent que la variable **`TopCategory`** peut être un facteur important pour la prédiction des étiquettes manquantes, car les différentes catégories ont des distributions de probabilité qui varient considérablement entre les ensembles de données.\n",
    "\n",
    "\n",
    "<b>Ces résultats montrent que la dérive des données est principalement affectée par les variables discrètes qu'on a identifié précédemment **`Seniority`**, **`EmailsOpened`** et **`SupportInteractions`** et la variable **`TopCategory`** et que les variables continues n'ont pas affectée  la dérive des données.</b>"
   ]
  },
  {
   "cell_type": "markdown",
   "id": "db70c54c",
   "metadata": {},
   "source": [
    "### La dérive du modèle:"
   ]
  },
  {
   "cell_type": "markdown",
   "id": "5d3fec97",
   "metadata": {},
   "source": [
    "Comme le modèle de <b> Random Forest Regression </b>était le meilleur modèle de régression ayant les meilleurs résultats suite à notre évaluation, dans cette partie, nous allons étudier la dérive de ces résultats, afin de voir à quel point les performances de ce modèle ont changé avec l'avancement dans le temps (entre les 3 périodes/dataframes). Nous allons ainsi évaluer l'impact du temps sur les prévisions de ce modèle et voir s'il est nécessaire de l'adapter pour maintenir sa performance dans le temps.\n"
   ]
  },
  {
   "cell_type": "markdown",
   "id": "c0830593",
   "metadata": {},
   "source": [
    "1. Dans cette partie, nous allons évaluer la dérive du modèle pour les périodes 1 à 3 en nous basant sur les résultats de prédiction que nous avons obtenus précédemment. Il est important de noter que les résultats de prédiction et les valeurs de la variable **`TotalCart`**  doivent être comparables.\n",
    "\n",
    "\n",
    "2. Nous allons calculé la distance de Wasserstein entre les prédictions normalisées et les vraies valeurs normalisées de la variable cible en utilisant la fonction WassersteinDistance().\n",
    "\n",
    "\n",
    "3. Nous allon comparé les distances de Wasserstein pour détecter une éventuelle dérive du modèle. Si les distances augmentent significativement d'une période à l'autre, cela peut indiquer que le modèle est en train de dériver."
   ]
  },
  {
   "cell_type": "code",
   "execution_count": 55,
   "id": "3202ef1d",
   "metadata": {},
   "outputs": [],
   "source": [
    "pred1= numpy_norm_cont(y_pred_RF_1)\n",
    "pred2= numpy_norm_cont(y_pred_RF_2)\n",
    "pred3= numpy_norm_cont(y_pred_RF_3)\n",
    "\n",
    "true1=numpy_norm_cont(df1['TotalCart'].to_numpy())\n",
    "true2=numpy_norm_cont(df2['TotalCart'].to_numpy())\n",
    "true3=numpy_norm_cont(df3['TotalCart'].to_numpy())\n",
    "\n",
    "dist1= WassersteinDistance(pred1,true1,2)\n",
    "dist2= WassersteinDistance(pred2,true2,2)\n",
    "dist3=WassersteinDistance(pred3,true3,2)"
   ]
  },
  {
   "cell_type": "code",
   "execution_count": 92,
   "id": "9c90c4f1",
   "metadata": {},
   "outputs": [
    {
     "data": {
      "image/png": "[encoded data removed]",
      "text/plain": [
       "<Figure size 640x480 with 1 Axes>"
      ]
     },
     "metadata": {},
     "output_type": "display_data"
    }
   ],
   "source": [
    "x = ['Période 1', 'Période 2', 'Période 3']\n",
    "y = [dist1, dist2, dist3]\n",
    "colors = ['lightblue', 'skyblue', 'dodgerblue']\n",
    "\n",
    "fig, ax = plt.subplots()\n",
    "ax.bar(x, y, color=colors, edgecolor='navy')\n",
    "\n",
    "ax.set_title('La dérive des prédictions du modèle')\n",
    "ax.set_ylabel('Distances de Wasserstein')\n",
    "\n",
    "plt.show()"
   ]
  },
  {
   "cell_type": "markdown",
   "id": "61f42796",
   "metadata": {},
   "source": [
    "En se basant sur les résultats des distances de Wasserstein, on peut dire que la dérive du modèle est croissante. En effet, la distance entre les prédictions et les vraies valeurs pour la période 1 est la plus faible (0.188), tandis que pour la période 3 elle est la plus élevée (0.389). Cela peut indiquer que le modèle s'est moins bien adapté aux données de la période 3 par rapport aux périodes précédentes.\n",
    "\n",
    "La distance de Wasserstein est un indicateur important de la qualité de prédiction du modèle, et si elle augmente au fil du temps, cela suggère que la performance du modèle se dégrade. Ainsi, la dérive du modèle est un problème qu'il est important de surveiller et de corriger pour assurer la fiabilité des prédictions."
   ]
  },
  {
   "cell_type": "markdown",
   "id": "204374cc",
   "metadata": {},
   "source": [
    "#### Nouveau Modèle\n",
    "Il serait intéressant d'entraîner le modèle sur les deux premières périodes (c'est-à-dire df0 et df1) et de comparer ses prédictions pour les périodes 2 et 3 avec les résultats du modèle initial entainé seulement sur la premiere période. Cela permettrait de déterminer si le modèle s'améliore dans la prédiction des périodes suivantes.\n",
    "\n",
    "En faisant ça nous pourrons voir si le modèle a évolué et s'est amélioré dans la prédiction quand il est entainé sur des périodes plus récentes."
   ]
  },
  {
   "cell_type": "code",
   "execution_count": 57,
   "id": "0a27d9c4",
   "metadata": {},
   "outputs": [],
   "source": [
    "# On fusionne les deux premiers dataframes (df0 et df1)\n",
    "train_df = pd.concat([df0,df1]).reset_index()\n",
    "\n",
    "# On prépare les données pour l'entraînement : on utilise get_dummies pour \n",
    "# transformer les variables catégorielles en variables binaires\n",
    "X_train_01=pd.get_dummies(train_df[predictors],drop_first=True)\n",
    "y_train_01=train_df['TotalCart']\n",
    "\n",
    "# On entraîne le modèle sur les données préparées\n",
    "rf_model.fit(X_train_01, y_train_01)\n",
    "\n",
    "# On utilise le modèle entraîné pour faire des prédictions sur la période 2\n",
    "X_test=pd.get_dummies(df2[predictors],drop_first=True)\n",
    "\n",
    "y_test=df2['TotalCart']\n",
    "\n",
    "y_pred_RF_01_2 = rf_model.predict(X_test)\n",
    "\n",
    "# On utilise le modèle entraîné pour faire des prédictions sur la période 3\n",
    "X_test=pd.get_dummies(df3[predictors],drop_first=True)\n",
    "\n",
    "y_test=df3['TotalCart']\n",
    "\n",
    "y_pred_RF_01_3 = rf_model.predict(X_test)"
   ]
  },
  {
   "cell_type": "code",
   "execution_count": 58,
   "id": "b7631b80",
   "metadata": {},
   "outputs": [],
   "source": [
    "pred_01_2= numpy_norm_cont(y_pred_RF_01_2)\n",
    "pred_01_3= numpy_norm_cont(y_pred_RF_01_3)\n",
    "\n",
    "dist_01_2= WassersteinDistance(pred_01_2,true2,2)\n",
    "dist_01_3= WassersteinDistance(pred_01_3,true3,2)"
   ]
  },
  {
   "cell_type": "code",
   "execution_count": 102,
   "id": "2fa1c18b",
   "metadata": {},
   "outputs": [
    {
     "data": {
      "image/png": "[encoded data removed]",
      "text/plain": [
       "<Figure size 640x480 with 1 Axes>"
      ]
     },
     "metadata": {},
     "output_type": "display_data"
    }
   ],
   "source": [
    "distances = [dist2, dist_01_2, dist3, dist_01_3]\n",
    "labels = ['Période 2 - Modèle initial ', 'Période 2 - nouveau Modèle ', 'Période 3 - Modèle initial ', 'Période 3 - nouveau Modèle ']\n",
    "colors = ['skyblue', 'dodgerblue', 'skyblue', 'dodgerblue']\n",
    "\n",
    "\n",
    "fig, ax = plt.subplots()\n",
    "\n",
    "\n",
    "ax.barh(np.arange(len(labels)), distances, height=0.5, color=colors, edgecolor='navy', linewidth=1.5)\n",
    "\n",
    "\n",
    "ax.set_yticks(np.arange(len(labels)))\n",
    "ax.set_yticklabels(labels)\n",
    "\n",
    "\n",
    "ax.set_title('La dérive des prédictions des deux modèle')\n",
    "ax.set_xlabel('distances de Wasserstein')\n",
    "\n",
    "\n",
    "plt.show()"
   ]
  },
  {
   "cell_type": "markdown",
   "id": "b97b2784",
   "metadata": {},
   "source": [
    "Nous avons observé que le modèle entraîné sur les périodes 0 et 1 a donné de meilleurs résultats que le modèle entraîné uniquement sur la période 0. Cela se traduit par une diminution de la distance de Wasserstein.\n",
    "\n",
    "Cependant, ce gain de précision suggère également une dérive du modèle par rapport au temps. En effet, les caractéristiques des données évoluent au fil du temps, ce qui peut avoir un impact sur la capacité du modèle à prédire avec précision les valeurs cibles des données les plus récentes.\n",
    "\n",
    "Il est donc important de surveiller régulièrement la performance du modèle et de le ré-entraîner avec des données plus récentes si la dérive devient apparente. "
   ]
  },
  {
   "cell_type": "markdown",
   "id": "14ced32e",
   "metadata": {},
   "source": [
    "En outre, l'analyse de la dérive des données a révélé que certaines variables discrètes telles que **`Seniority`**, **`EmailsOpened`** et **`SupportInteractions`** ainsi que la variable **`TopCategory`**, ont un impact significatif sur la dérive des données. Cela peut indiquer que ces variables ont un effet important sur la performance du modèle, et qu'il est important de les prendre en compte lors de l'ajustement du modèle."
   ]
  },
  {
   "cell_type": "markdown",
   "id": "34f9aace",
   "metadata": {},
   "source": [
    "# Conclusion:\n",
    "\n",
    "Dans le cadre de ce projet, nous avons étudié la performance de trois modèles de régression pour prédire la variable TopCategory. Nous avons constaté que le modèle de random forest était le plus performant. Cependant, une analyse de la dérive du modèle a révélé une augmentation croissante de la distance de Wasserstein au fil du temps, indiquant une capacité de moins en moins bonne du modèle à s'adapter aux nouvelles données. Cette dérive peut être liée à une insuffisance d'ajustement du modèle aux variables qui ont une forte influence sur la dérive des données, notamment **`Seniority`**, **`EmailsOpened`**, **`SupportInteractions`** et **`TopCategory`**.\n",
    "\n",
    "Afin d'améliorer la performance du modèle, nous recommandons d'inclure ces variables dans le modèle et de les ajuster correctement. Nous suggérons également de revoir la méthodologie de l'entraînement et de la validation du modèle en adoptant une approche de type <b> « rolling window »</b>. Enfin, nous recommandons de surveiller régulièrement la dérive du modèle et de mettre à jour le modèle si nécessaire pour maintenir sa performance au fil du temps.\n",
    "\n",
    "En somme, cette étude met en évidence l'importance de surveiller la performance des modèles au fil du temps et de les ajuster régulièrement en fonction des nouvelles données. "
   ]
  },
  {
   "cell_type": "markdown",
   "id": "6ded1c69",
   "metadata": {},
   "source": [
    "Je suis heureux d'avoir travaillé sur ce projet passionnant de data science et je suis honoré de présenter mes résultats pour votre test.\n",
    "\n",
    "J'aimerai terminer mon projet avec une parole qui me semble de plus en plus vraie avec le temps:"
   ]
  },
  {
   "cell_type": "code",
   "execution_count": 60,
   "id": "50aa99ba",
   "metadata": {},
   "outputs": [
    {
     "name": "stdout",
     "output_type": "stream",
     "text": [
      "__          ___ _   _                 _         _       _        \n",
      "\\ \\        / (_) | | |               | |       | |     | |       \n",
      " \\ \\  /\\  / / _| |_| |__   ___  _   _| |_    __| | __ _| |_ __ _ \n",
      "  \\ \\/  \\/ / | | __| '_ \\ / _ \\| | | | __|  / _` |/ _` | __/ _` |\n",
      "   \\  /\\  /  | | |_| | | | (_) | |_| | |_  | (_| | (_| | || (_| |\n",
      "    \\/  \\/   |_|\\__|_| |_|\\___/ \\__,_|\\__|  \\__,_|\\__,_|\\__\\__,_|\n",
      "                                                                 \n",
      "                                                                 \n",
      "                   _              _           _   \n",
      "                  ( )            (_)         | |  \n",
      " _   _  ___  _   _|/ _ __ ___     _ _   _ ___| |_ \n",
      "| | | |/ _ \\| | | | | '__/ _ \\   | | | | / __| __|\n",
      "| |_| | (_) | |_| | | | |  __/   | | |_| \\__ \\ |_ \n",
      " \\__, |\\___/ \\__,_| |_|  \\___|   | |\\__,_|___/\\__|\n",
      "  __/ |                         _/ |              \n",
      " |___/                         |__/               \n",
      "                   _   _                                                 \n",
      "                  | | | |                                                \n",
      "  __ _ _ __   ___ | |_| |__   ___ _ __   _ __   ___ _ __ ___  ___  _ __  \n",
      " / _` | '_ \\ / _ \\| __| '_ \\ / _ \\ '__| | '_ \\ / _ \\ '__/ __|/ _ \\| '_ \\ \n",
      "| (_| | | | | (_) | |_| | | |  __/ |    | |_) |  __/ |  \\__ \\ (_) | | | |\n",
      " \\__,_|_| |_|\\___/ \\__|_| |_|\\___|_|    | .__/ \\___|_|  |___/\\___/|_| |_|\n",
      "                                        | |                              \n",
      "                                        |_|                              \n",
      "          _ _   _                                 _       _               _ \n",
      "         (_) | | |                               (_)     (_)             | |\n",
      "__      ___| |_| |__     __ _ _ __     ___  _ __  _ _ __  _  ___  _ __   | |\n",
      "\\ \\ /\\ / / | __| '_ \\   / _` | '_ \\   / _ \\| '_ \\| | '_ \\| |/ _ \\| '_ \\  | |\n",
      " \\ V  V /| | |_| | | | | (_| | | | | | (_) | |_) | | | | | | (_) | | | | |_|\n",
      "  \\_/\\_/ |_|\\__|_| |_|  \\__,_|_| |_|  \\___/| .__/|_|_| |_|_|\\___/|_| |_| (_)\n",
      "                                           | |                              \n",
      "                                           |_|                              \n",
      "\n"
     ]
    }
   ],
   "source": [
    "#!pip install pyfiglet\n",
    "from pyfiglet import Figlet\n",
    "\n",
    "f = Figlet(font='big')\n",
    "quote = \"Without data you're just another person with an opinion !\"\n",
    "ascii_art = f.renderText(quote)\n",
    "\n",
    "print(ascii_art)"
   ]
  }
 ],
 "metadata": {
  "kernelspec": {
   "display_name": "Python 3 (ipykernel)",
   "language": "python",
   "name": "python3"
  },
  "language_info": {
   "codemirror_mode": {
    "name": "ipython",
    "version": 3
   },
   "file_extension": ".py",
   "mimetype": "text/x-python",
   "name": "python",
   "nbconvert_exporter": "python",
   "pygments_lexer": "ipython3",
   "version": "3.9.13"
  },
  "varInspector": {
   "cols": {
    "lenName": 16,
    "lenType": 16,
    "lenVar": 40
   },
   "kernels_config": {
    "python": {
     "delete_cmd_postfix": "",
     "delete_cmd_prefix": "del ",
     "library": "var_list.py",
     "varRefreshCmd": "print(var_dic_list())"
    },
    "r": {
     "delete_cmd_postfix": ") ",
     "delete_cmd_prefix": "rm(",
     "library": "var_list.r",
     "varRefreshCmd": "cat(var_dic_list()) "
    }
   },
   "types_to_exclude": [
    "module",
    "function",
    "builtin_function_or_method",
    "instance",
    "_Feature"
   ],
   "window_display": false
  }
 },
 "nbformat": 4,
 "nbformat_minor": 5
}
